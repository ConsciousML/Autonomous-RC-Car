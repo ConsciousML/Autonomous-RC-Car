{
 "cells": [
  {
   "cell_type": "code",
   "execution_count": 57,
   "metadata": {
    "collapsed": true
   },
   "outputs": [],
   "source": [
    "import os\n",
    "import glob\n",
    "import numpy as np\n",
    "import cv2\n",
    "import json\n",
    "import matplotlib.pyplot as plt\n",
    "from pprint import pprint\n",
    "from keras.preprocessing.image import ImageDataGenerator\n",
    "from keras.callbacks import ModelCheckpoint\n",
    "from keras.layers import Input, Dense, merge\n",
    "from keras.models import Model\n",
    "from keras.layers import Convolution2D, MaxPooling2D, Reshape, BatchNormalization\n",
    "from keras.layers import Activation, Dropout, Flatten, Dense\n",
    "from src.learning.processing import parse\n",
    "data_dir = \"src/client/pictures/\"\n",
    "data_save_dir = \"datasets/npy/\"\n",
    "big_dir = \"tawn_dataset/\"\n",
    "\n",
    "def normalize_label(old_val, old_min, old_max, new_min, new_max):\n",
    "    old_val = float(old_val)\n",
    "    new_val = (((old_val - old_min) * (new_max - new_min)) / (old_max - old_min)) + new_min\n",
    "    return new_val"
   ]
  },
  {
   "cell_type": "markdown",
   "metadata": {},
   "source": [
    "CAUTION flip only once !"
   ]
  },
  {
   "cell_type": "code",
   "execution_count": 62,
   "metadata": {},
   "outputs": [
    {
     "name": "stdout",
     "output_type": "stream",
     "text": [
      "12\n",
      "src/client/pictures/13_125_102.jpg\n",
      "src/client/pictures/14_125_102.jpg\n",
      "src/client/pictures/15_35_77.jpg\n",
      "src/client/pictures/16_125_102.jpg\n",
      "src/client/pictures/17_125_102.jpg\n",
      "src/client/pictures/18_125_102.jpg\n",
      "src/client/pictures/19_125_102.jpg\n",
      "src/client/pictures/20_215_77.jpg\n",
      "src/client/pictures/21_125_102.jpg\n",
      "src/client/pictures/22_125_102.jpg\n",
      "src/client/pictures/23_215_77.jpg\n",
      "src/client/pictures/24_35_77.jpg\n"
     ]
    }
   ],
   "source": [
    "files = parse.get_filenames(data_dir)\n",
    "flip_dir = data_dir\n",
    "if not os.path.exists(flip_dir):\n",
    "    os.makedirs(flip_dir)\n",
    "    \n",
    "def flip_angle(label):\n",
    "    if (label >= 125):\n",
    "        diff = label - 125\n",
    "        return 125 - diff\n",
    "    else:\n",
    "        diff = 125 - label\n",
    "        return 125 + diff\n",
    "    \n",
    "def flip_dataset(files, directory):\n",
    "    i = len(files) + 1\n",
    "    print(len(files))\n",
    "    for f in files:\n",
    "        img = cv2.imread(f, 1)\n",
    "        img = cv2.flip(img, 1)\n",
    "        f = f.split(\"_\")\n",
    "        angle = f[1]\n",
    "        speed = f[2].rstrip(f[2][-4:])\n",
    "        angle = flip_angle(int(angle))\n",
    "        img_path = directory + str(i) + \"_\" + str(angle) + \"_\" + str(speed) + \".jpg\"\n",
    "        cv2.imwrite(img_path, img)\n",
    "        print(img_path)\n",
    "        i += 1\n",
    "        \n",
    "flip_dataset(files, data_dir)"
   ]
  },
  {
   "cell_type": "code",
   "execution_count": 63,
   "metadata": {},
   "outputs": [
    {
     "name": "stdout",
     "output_type": "stream",
     "text": [
      "angle: 125\n",
      "speed: 102\n",
      "angle: 125\n",
      "speed: 102\n",
      "angle: 215\n",
      "speed: 77\n",
      "angle: 35\n",
      "speed: 77\n",
      "angle: 125\n",
      "speed: 102\n",
      "angle: 125\n",
      "speed: 102\n",
      "angle: 125\n",
      "speed: 102\n",
      "angle: 35\n",
      "speed: 77\n",
      "angle: 125\n",
      "speed: 102\n",
      "angle: 215\n",
      "speed: 77\n",
      "angle: 215\n",
      "speed: 77\n",
      "angle: 125\n",
      "speed: 102\n",
      "angle: 125\n",
      "speed: 102\n",
      "angle: 125\n",
      "speed: 102\n",
      "angle: 125\n",
      "speed: 102\n",
      "angle: 125\n",
      "speed: 102\n",
      "angle: 125\n",
      "speed: 102\n",
      "angle: 35\n",
      "speed: 77\n",
      "angle: 125\n",
      "speed: 102\n",
      "angle: 125\n",
      "speed: 102\n",
      "angle: 125\n",
      "speed: 102\n",
      "angle: 125\n",
      "speed: 102\n",
      "angle: 35\n",
      "speed: 77\n",
      "angle: 215\n",
      "speed: 77\n"
     ]
    }
   ],
   "source": [
    "image_paths = []\n",
    "angle_labels = []\n",
    "speed_labels = []\n",
    "for root, dirs, files in os.walk(data_dir):\n",
    "    for file in files:\n",
    "        if file.endswith(\".jpg\"):\n",
    "            filename = os.path.join(root, file)\n",
    "            image_paths.append(filename)\n",
    "            s = filename.split(\"_\")\n",
    "            print(\"angle:\",s[1])\n",
    "            print(\"speed:\",s[2].rstrip(s[2][-4:]))\n",
    "            angle_labels.append(float(s[1]))\n",
    "            speed_labels.append(float(s[2].rstrip(s[2][-4:])))\n",
    "image_paths = np.array(image_paths)\n",
    "angle_labels = np.array(angle_labels)\n",
    "speed_labels = np.array(speed_labels)"
   ]
  },
  {
   "cell_type": "code",
   "execution_count": 64,
   "metadata": {},
   "outputs": [
    {
     "data": {
      "text/plain": [
       "((24,), (24,), (24,))"
      ]
     },
     "execution_count": 64,
     "metadata": {},
     "output_type": "execute_result"
    }
   ],
   "source": [
    "(angle_labels.shape, speed_labels.shape, image_paths.shape)"
   ]
  },
  {
   "cell_type": "code",
   "execution_count": 65,
   "metadata": {
    "collapsed": true
   },
   "outputs": [],
   "source": [
    "data = np.zeros((image_paths.shape[0], 120, 160, 3))\n",
    "for i in range(image_paths.shape[0]):\n",
    "    img = cv2.imread(image_paths[i])\n",
    "    y1 = int(img.shape[0] / 2)\n",
    "    img = img[y1:, :]\n",
    "    img = cv2.resize(img, (160, 120), interpolation = cv2.INTER_CUBIC)\n",
    "    data[i] = img"
   ]
  },
  {
   "cell_type": "code",
   "execution_count": 66,
   "metadata": {},
   "outputs": [
    {
     "data": {
      "text/plain": [
       "(24, 120, 160, 3)"
      ]
     },
     "execution_count": 66,
     "metadata": {},
     "output_type": "execute_result"
    }
   ],
   "source": [
    "data.shape"
   ]
  },
  {
   "cell_type": "code",
   "execution_count": 67,
   "metadata": {
    "collapsed": true
   },
   "outputs": [],
   "source": [
    "angle_labels = ((angle_labels - 35) / 170.0 - 0.5) * 2\n",
    "idx = 0\n",
    "for spd in speed_labels:\n",
    "    speed_labels[idx] = normalize_label(spd, 27, 102, 0, 1)\n",
    "    idx += 1"
   ]
  },
  {
   "cell_type": "code",
   "execution_count": 68,
   "metadata": {},
   "outputs": [
    {
     "name": "stdout",
     "output_type": "stream",
     "text": [
      "[ 1.          1.          0.66666667  0.66666667  1.          1.          1.\n",
      "  0.66666667  1.          0.66666667  0.66666667  1.          1.          1.\n",
      "  1.          1.          1.          0.66666667  1.          1.          1.\n",
      "  1.          0.66666667  0.66666667]\n"
     ]
    }
   ],
   "source": [
    "print(str(speed_labels))"
   ]
  },
  {
   "cell_type": "code",
   "execution_count": 69,
   "metadata": {},
   "outputs": [
    {
     "name": "stdout",
     "output_type": "stream",
     "text": [
      "[ 0.05882353  0.05882353  1.11764706 -1.          0.05882353  0.05882353\n",
      "  0.05882353 -1.          0.05882353  1.11764706  1.11764706  0.05882353\n",
      "  0.05882353  0.05882353  0.05882353  0.05882353  0.05882353 -1.\n",
      "  0.05882353  0.05882353  0.05882353  0.05882353 -1.          1.11764706]\n"
     ]
    }
   ],
   "source": [
    "print(str(angle_labels))"
   ]
  },
  {
   "cell_type": "code",
   "execution_count": 70,
   "metadata": {},
   "outputs": [
    {
     "data": {
      "image/png": "[encoded data removed]",
      "text/plain": [
       "<matplotlib.figure.Figure at 0x7f76adf72438>"
      ]
     },
     "metadata": {},
     "output_type": "display_data"
    }
   ],
   "source": [
    "plt.hist(angle_labels, bins=30)\n",
    "plt.show()"
   ]
  },
  {
   "cell_type": "code",
   "execution_count": 71,
   "metadata": {},
   "outputs": [
    {
     "data": {
      "image/png": "[encoded data removed]",
      "text/plain": [
       "<matplotlib.figure.Figure at 0x7f76adec15c0>"
      ]
     },
     "metadata": {},
     "output_type": "display_data"
    }
   ],
   "source": [
    "plt.hist(speed_labels, bins=30)\n",
    "plt.show()"
   ]
  },
  {
   "cell_type": "code",
   "execution_count": 72,
   "metadata": {
    "collapsed": true
   },
   "outputs": [],
   "source": [
    "def AnglePredCnn():\n",
    "    img_in = Input(shape=(120, 160, 3), name='img_in')                      # First layer, input layer, Shape comes from camera.py resolution, RGB\n",
    "    x = img_in\n",
    "    x = Convolution2D(24, (5,5), strides=(2,2), activation='relu')(x)       # 24 features, 5 pixel x 5 pixel kernel (convolution, feauture) window, 2wx2h stride, relu activation\n",
    "    x = Convolution2D(32, (5,5), strides=(2,2), activation='relu')(x)       # 32 features, 5px5p kernel window, 2wx2h stride, relu activatiion\n",
    "    x = Convolution2D(64, (5,5), strides=(2,2), activation='relu')(x)       # 64 features, 5px5p kernal window, 2wx2h stride, relu\n",
    "    x = Convolution2D(64, (3,3), strides=(2,2), activation='relu')(x)       # 64 features, 3px3p kernal window, 2wx2h stride, relu\n",
    "    x = Convolution2D(64, (3,3), strides=(1,1), activation='relu')(x)       # 64 features, 3px3p kernal window, 1wx1h stride, relu\n",
    "\n",
    "    # Possibly add MaxPooling (will make it less sensitive to position in image).  Camera angle fixed, so may not to be needed\n",
    "\n",
    "    x = Flatten(name='flattened')(x)                                        # Flatten to 1D (Fully connected)\n",
    "    x = Dense(100, activation='linear')(x)                                    # Classify the data into 100 features, make all negatives 0\n",
    "    x = Dropout(.1)(x)                                                      # Randomly drop out (turn off) 10% of the neurons (Prevent overfitting)\n",
    "    x = Dense(50, activation='linear')(x)                                     # Classify the data into 50 features, make all negatives 0\n",
    "    x = Dropout(.1)(x)                                                      # Randomly drop out 10% of the neurons (Prevent overfitting)\n",
    "    #categorical output of the angle\n",
    "    angle_out = Dense(1, activation='linear', name='angle_out')(x)        # Connect every input with every output and output 15 hidden units. Use Softmax to give percentage. 15 categories and find best one based off percentage 0.0-1.0\n",
    "    \n",
    "    #continous output of throttle\n",
    "    throttle_out = Dense(1, activation='linear', name='throttle_out')(x)      # Reduce to 1 number, Positive number only\n",
    "    \n",
    "    model = Model(inputs=[img_in], outputs=[angle_out, throttle_out])\n",
    "    model.compile(optimizer='adam',\n",
    "                  loss={'angle_out': 'mean_squared_error',\n",
    "                        'throttle_out': 'mean_squared_error'},\n",
    "                  loss_weights={'angle_out': 0.9, 'throttle_out': .001})\n",
    "    return model"
   ]
  },
  {
   "cell_type": "code",
   "execution_count": 73,
   "metadata": {
    "collapsed": true
   },
   "outputs": [],
   "source": [
    "model = AnglePredCnn()"
   ]
  },
  {
   "cell_type": "code",
   "execution_count": 84,
   "metadata": {},
   "outputs": [
    {
     "name": "stdout",
     "output_type": "stream",
     "text": [
      "Train on 21 samples, validate on 3 samples\n",
      "Epoch 1/6\n",
      "21/21 [==============================] - 0s 6ms/step - loss: 0.0034 - angle_out_loss: 0.0031 - throttle_out_loss: 0.6139 - val_loss: 0.0064 - val_angle_out_loss: 0.0066 - val_throttle_out_loss: 0.4660\n",
      "Epoch 2/6\n",
      "21/21 [==============================] - 0s 5ms/step - loss: 0.0051 - angle_out_loss: 0.0050 - throttle_out_loss: 0.6494 - val_loss: 0.0051 - val_angle_out_loss: 0.0051 - val_throttle_out_loss: 0.4600\n",
      "Epoch 3/6\n",
      "21/21 [==============================] - 0s 5ms/step - loss: 0.0039 - angle_out_loss: 0.0037 - throttle_out_loss: 0.6110 - val_loss: 0.0018 - val_angle_out_loss: 0.0014 - val_throttle_out_loss: 0.4544\n",
      "Epoch 4/6\n",
      "21/21 [==============================] - 0s 6ms/step - loss: 0.0032 - angle_out_loss: 0.0029 - throttle_out_loss: 0.5806 - val_loss: 0.0013 - val_angle_out_loss: 9.9100e-04 - val_throttle_out_loss: 0.4503\n",
      "Epoch 5/6\n",
      "21/21 [==============================] - 0s 4ms/step - loss: 0.0090 - angle_out_loss: 0.0094 - throttle_out_loss: 0.5802 - val_loss: 0.0014 - val_angle_out_loss: 0.0011 - val_throttle_out_loss: 0.4476\n",
      "Epoch 6/6\n",
      "21/21 [==============================] - 0s 5ms/step - loss: 0.0025 - angle_out_loss: 0.0022 - throttle_out_loss: 0.5946 - val_loss: 5.9866e-04 - val_angle_out_loss: 1.7124e-04 - val_throttle_out_loss: 0.4445\n"
     ]
    }
   ],
   "source": [
    "model_path = os.path.abspath(\"models/speed_model.h5\")\n",
    "checkpointer = ModelCheckpoint(model_path, save_best_only=True, monitor='val_loss', mode='min')\n",
    "hist = model.fit(data, [angle_labels, speed_labels], validation_split=0.1, epochs=6, batch_size=16, callbacks=[checkpointer])"
   ]
  },
  {
   "cell_type": "code",
   "execution_count": 82,
   "metadata": {},
   "outputs": [
    {
     "name": "stdout",
     "output_type": "stream",
     "text": [
      "__________________________________________________________________________________________________\n",
      "Layer (type)                    Output Shape         Param #     Connected to                     \n",
      "==================================================================================================\n",
      "img_in (InputLayer)             (None, 120, 160, 3)  0                                            \n",
      "__________________________________________________________________________________________________\n",
      "conv2d_6 (Conv2D)               (None, 58, 78, 24)   1824        img_in[0][0]                     \n",
      "__________________________________________________________________________________________________\n",
      "conv2d_7 (Conv2D)               (None, 27, 37, 32)   19232       conv2d_6[0][0]                   \n",
      "__________________________________________________________________________________________________\n",
      "conv2d_8 (Conv2D)               (None, 12, 17, 64)   51264       conv2d_7[0][0]                   \n",
      "__________________________________________________________________________________________________\n",
      "conv2d_9 (Conv2D)               (None, 5, 8, 64)     36928       conv2d_8[0][0]                   \n",
      "__________________________________________________________________________________________________\n",
      "conv2d_10 (Conv2D)              (None, 3, 6, 64)     36928       conv2d_9[0][0]                   \n",
      "__________________________________________________________________________________________________\n",
      "flattened (Flatten)             (None, 1152)         0           conv2d_10[0][0]                  \n",
      "__________________________________________________________________________________________________\n",
      "dense_3 (Dense)                 (None, 100)          115300      flattened[0][0]                  \n",
      "__________________________________________________________________________________________________\n",
      "dropout_3 (Dropout)             (None, 100)          0           dense_3[0][0]                    \n",
      "__________________________________________________________________________________________________\n",
      "dense_4 (Dense)                 (None, 50)           5050        dropout_3[0][0]                  \n",
      "__________________________________________________________________________________________________\n",
      "dropout_4 (Dropout)             (None, 50)           0           dense_4[0][0]                    \n",
      "__________________________________________________________________________________________________\n",
      "angle_out (Dense)               (None, 1)            51          dropout_4[0][0]                  \n",
      "__________________________________________________________________________________________________\n",
      "throttle_out (Dense)            (None, 1)            51          dropout_4[0][0]                  \n",
      "==================================================================================================\n",
      "Total params: 266,628\n",
      "Trainable params: 266,628\n",
      "Non-trainable params: 0\n",
      "__________________________________________________________________________________________________\n"
     ]
    }
   ],
   "source": [
    "model.summary()"
   ]
  },
  {
   "cell_type": "code",
   "execution_count": 76,
   "metadata": {},
   "outputs": [
    {
     "data": {
      "image/png": "[encoded data removed]",
      "text/plain": [
       "<matplotlib.figure.Figure at 0x7f76adae8278>"
      ]
     },
     "metadata": {},
     "output_type": "display_data"
    }
   ],
   "source": [
    "plt.plot(hist.history[\"loss\"][1:])\n",
    "plt.plot(hist.history[\"val_loss\"][1:])\n",
    "plt.show()"
   ]
  },
  {
   "cell_type": "code",
   "execution_count": 16,
   "metadata": {
    "collapsed": true
   },
   "outputs": [],
   "source": [
    "model.save(\"models/new_cam.h5\")"
   ]
  },
  {
   "cell_type": "code",
   "execution_count": 17,
   "metadata": {},
   "outputs": [
    {
     "data": {
      "image/png": "[encoded data removed]",
      "text/plain": [
       "<matplotlib.figure.Figure at 0x7f12b464c828>"
      ]
     },
     "metadata": {},
     "output_type": "display_data"
    }
   ],
   "source": [
    "plt.hist(model.predict(data)[0], bins=30)\n",
    "plt.show()"
   ]
  },
  {
   "cell_type": "code",
   "execution_count": 18,
   "metadata": {},
   "outputs": [
    {
     "data": {
      "image/png": "[encoded data removed]",
      "text/plain": [
       "<matplotlib.figure.Figure at 0x7f12b459e3c8>"
      ]
     },
     "metadata": {},
     "output_type": "display_data"
    }
   ],
   "source": [
    "plt.hist(labels, bins=30)\n",
    "plt.show()"
   ]
  },
  {
   "cell_type": "code",
   "execution_count": 45,
   "metadata": {},
   "outputs": [
    {
     "data": {
      "text/plain": [
       "(1381, 120, 160, 3)"
      ]
     },
     "execution_count": 45,
     "metadata": {},
     "output_type": "execute_result"
    }
   ],
   "source": [
    "data.shape"
   ]
  },
  {
   "cell_type": "code",
   "execution_count": 46,
   "metadata": {},
   "outputs": [
    {
     "data": {
      "text/plain": [
       "(1381,)"
      ]
     },
     "execution_count": 46,
     "metadata": {},
     "output_type": "execute_result"
    }
   ],
   "source": [
    "labels.shape"
   ]
  },
  {
   "cell_type": "code",
   "execution_count": 106,
   "metadata": {
    "collapsed": true
   },
   "outputs": [],
   "source": [
    "mask = np.where((labels > -0.08) & (labels < 0.08))\n",
    "mask = (np.random.choice(mask[0], int(2 * mask[0].shape[0] / 3), replace=False),)\n",
    "\n",
    "maska = np.ones(labels.shape,dtype=bool)\n",
    "maska[mask] = False"
   ]
  },
  {
   "cell_type": "code",
   "execution_count": 107,
   "metadata": {},
   "outputs": [
    {
     "data": {
      "text/plain": [
       "(936,)"
      ]
     },
     "execution_count": 107,
     "metadata": {},
     "output_type": "execute_result"
    }
   ],
   "source": [
    "labels[maska].shape"
   ]
  },
  {
   "cell_type": "code",
   "execution_count": 108,
   "metadata": {
    "collapsed": true
   },
   "outputs": [],
   "source": [
    "labels = labels[maska]\n",
    "data = data[maska]"
   ]
  },
  {
   "cell_type": "code",
   "execution_count": 109,
   "metadata": {},
   "outputs": [
    {
     "data": {
      "image/png": "[encoded data removed]",
      "text/plain": [
       "<matplotlib.figure.Figure at 0x7f538344b630>"
      ]
     },
     "metadata": {},
     "output_type": "display_data"
    }
   ],
   "source": [
    "plt.hist(labels, bins=30)\n",
    "plt.show()"
   ]
  },
  {
   "cell_type": "code",
   "execution_count": 182,
   "metadata": {
    "collapsed": true
   },
   "outputs": [],
   "source": [
    "from random import shuffle\n",
    "\n",
    "def build_dataset(datas):\n",
    "    dataset = np.zeros((len(datas), 120, 160, 3))\n",
    "    for i in range(len(datas)):    \n",
    "        img = cv2.imread(datas[i])\n",
    "        img = img[y1:, :]\n",
    "        img = cv2.resize(img, (160, 120), interpolation = cv2.INTER_CUBIC)\n",
    "        dataset[i,:,:,:] = img\n",
    "        return dataset\n",
    "\n",
    "def build_labels(datas):\n",
    "    labels = np.array([data[1] for data in datas])\n",
    "    return to_categorical(labels, 15)\n",
    "\n",
    "\n",
    "def myGenerator(datas, labels, batch=16):\n",
    "    # For each epoch\n",
    "    while 1:\n",
    "        # Suffle datas\n",
    "        indexes = list(range(len(datas)))\n",
    "        shuffle(indexes)\n",
    "        \n",
    "        # For each batch\n",
    "        for i in range(0, len(datas), batch):\n",
    "            \n",
    "            # Build a batch of datas\n",
    "            batch_data = [datas[indexes[j]] for j in range(i, i + batch) if j < len(datas)]\n",
    "            y = [labels[indexes[j]] for j in range(i, i + batch) if j < len(labels)]\n",
    "            \n",
    "            y = np.array(y)\n",
    "            # Build the dataset for the batch\n",
    "            x = build_dataset(batch_data)\n",
    "            \n",
    "            yield x, y"
   ]
  },
  {
   "cell_type": "code",
   "execution_count": 183,
   "metadata": {},
   "outputs": [
    {
     "name": "stdout",
     "output_type": "stream",
     "text": [
      "(16, 120, 160, 3)\n",
      "(16,)\n",
      "(16, 120, 160, 3)\n",
      "(16,)\n",
      "(16, 120, 160, 3)\n",
      "(16,)\n",
      "(16, 120, 160, 3)\n",
      "(16,)\n"
     ]
    }
   ],
   "source": [
    "test = myGenerator(image_paths, labels, 16)\n",
    "for j in range(0, 4):\n",
    "    x, y = next(test)\n",
    "    print(x.shape)\n",
    "    print(y.shape)"
   ]
  },
  {
   "cell_type": "code",
   "execution_count": null,
   "metadata": {
    "collapsed": true
   },
   "outputs": [],
   "source": []
  }
 ],
 "metadata": {
  "kernelspec": {
   "display_name": "Python 3",
   "language": "python",
   "name": "python3"
  },
  "language_info": {
   "codemirror_mode": {
    "name": "ipython",
    "version": 3
   },
   "file_extension": ".py",
   "mimetype": "text/x-python",
   "name": "python",
   "nbconvert_exporter": "python",
   "pygments_lexer": "ipython3",
   "version": "3.5.3"
  }
 },
 "nbformat": 4,
 "nbformat_minor": 2
}
