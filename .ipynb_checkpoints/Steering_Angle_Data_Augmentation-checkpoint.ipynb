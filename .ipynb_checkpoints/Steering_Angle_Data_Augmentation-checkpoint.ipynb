{
 "cells": [
  {
   "cell_type": "code",
   "execution_count": null,
   "metadata": {
    "collapsed": true
   },
   "outputs": [],
   "source": [
    "import numpy as np\n",
    "import cv2\n",
    "import os\n",
    "from src.learning.processing import parse\n",
    "data_dir = \"datasets/pictures/\"\n",
    "left_dir = \"left_dataset/\"\n",
    "right_dir = \"right_dataset/\"\n",
    "flip_left_dir = data_dir + \"flip_left_dataset/\""
   ]
  },
  {
   "cell_type": "code",
   "execution_count": null,
   "metadata": {
    "collapsed": true
   },
   "outputs": [],
   "source": [
    "files = parse.get_filenames(data_dir + left_dir)"
   ]
  },
  {
   "cell_type": "code",
   "execution_count": null,
   "metadata": {
    "collapsed": true
   },
   "outputs": [],
   "source": [
    "if not os.path.exists(flip_left_dir):\n",
    "    os.makedirs(flip_left_dir)"
   ]
  },
  {
   "cell_type": "code",
   "execution_count": null,
   "metadata": {
    "collapsed": true
   },
   "outputs": [],
   "source": [
    "def flip_angle(angle):\n",
    "    angle = float(angle)\n",
    "    if (angle == 0.5)\n",
    "        return str(angle)\n",
    "    if (angle > 0.5):\n",
    "        tmp = angle - 0.5\n",
    "        angle = 0.5 - tmp\n",
    "    else:\n",
    "        tmp = 0.5 - angle\n",
    "        angle = 0.5 + tmp\n",
    "    return str(angle)"
   ]
  },
  {
   "cell_type": "code",
   "execution_count": null,
   "metadata": {},
   "outputs": [],
   "source": [
    "def flip_dataset(files, directory):\n",
    "    i = 0\n",
    "    for f in files:\n",
    "        img = cv2.imread(f, 1)\n",
    "        img = cv2.flip(img, 1)\n",
    "        angle = flip_angle(parse.labelize_angle(f))\n",
    "        cv2.imwrite(directory + str(i) + \"_\" + angle + \".jpg\", img)\n",
    "        i += 1"
   ]
  },
  {
   "cell_type": "code",
   "execution_count": null,
   "metadata": {
    "collapsed": true
   },
   "outputs": [],
   "source": [
    "flip_dataset(files, data_dir + flip_left_dir)"
   ]
  },
  {
   "cell_type": "code",
   "execution_count": null,
   "metadata": {
    "collapsed": true
   },
   "outputs": [],
   "source": [
    "angle = parse.labelize_angle(files[1])\n",
    "img = cv2.imread(files[1], 1)\n",
    "img = cv2.flip(img, 1);\n",
    "cv2.imshow(\"image\", img)\n",
    "cv2.waitKey(0)\n",
    "cv2.destroyAllWindows()"
   ]
  },
  {
   "cell_type": "code",
   "execution_count": null,
   "metadata": {},
   "outputs": [],
   "source": [
    "print(flip_angle(\"0.23\"))"
   ]
  },
  {
   "cell_type": "code",
   "execution_count": null,
   "metadata": {
    "collapsed": true
   },
   "outputs": [],
   "source": []
  }
 ],
 "metadata": {
  "kernelspec": {
   "display_name": "Python 3",
   "language": "python",
   "name": "python3"
  },
  "language_info": {
   "codemirror_mode": {
    "name": "ipython",
    "version": 3
   },
   "file_extension": ".py",
   "mimetype": "text/x-python",
   "name": "python",
   "nbconvert_exporter": "python",
   "pygments_lexer": "ipython3",
   "version": "3.5.3"
  }
 },
 "nbformat": 4,
 "nbformat_minor": 2
}
