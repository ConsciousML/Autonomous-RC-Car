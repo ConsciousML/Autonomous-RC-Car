{
 "cells": [
  {
   "cell_type": "code",
   "execution_count": 1,
   "metadata": {},
   "outputs": [
    {
     "name": "stderr",
     "output_type": "stream",
     "text": [
      "Using TensorFlow backend.\n"
     ]
    }
   ],
   "source": [
    "import os\n",
    "import glob\n",
    "import numpy as np\n",
    "import cv2\n",
    "import json\n",
    "import matplotlib.pyplot as plt\n",
    "from pprint import pprint\n",
    "from keras.preprocessing.image import ImageDataGenerator\n",
    "from keras.layers import Input, Dense, merge\n",
    "from keras.models import Model\n",
    "from keras.layers import Convolution2D, MaxPooling2D, Reshape, BatchNormalization\n",
    "from keras.layers import Activation, Dropout, Flatten, Dense\n",
    "data_dir = \"datasets/hive_fast_driving/\"\n",
    "data_save_dir = \"datasets/npy/\""
   ]
  },
  {
   "cell_type": "code",
   "execution_count": 2,
   "metadata": {
    "collapsed": true
   },
   "outputs": [],
   "source": [
    "image_paths = []\n",
    "json_paths = []\n",
    "for root, dirs, files in os.walk(\"datasets/hive_fast_driving/\"):\n",
    "    for file in files:\n",
    "        if file.endswith(\"_cam-image_array_.jpg\"):\n",
    "            image_paths.append(os.path.join(root, file))\n",
    "        if file.endswith(\".json\"):\n",
    "            json_paths.append(os.path.join(root, file))\n",
    "image_paths = np.array(image_paths)\n",
    "json_paths = np.array(json_paths)\n",
    "image_paths = np.sort(image_paths)\n",
    "json_paths = np.sort(json_paths)"
   ]
  },
  {
   "cell_type": "code",
   "execution_count": 3,
   "metadata": {
    "collapsed": true
   },
   "outputs": [],
   "source": [
    "data = np.zeros((image_paths.shape[0], 120, 160, 3))\n",
    "for i in range(image_paths.shape[0]):\n",
    "    data[i] = cv2.imread(image_paths[0])"
   ]
  },
  {
   "cell_type": "code",
   "execution_count": 4,
   "metadata": {
    "collapsed": true
   },
   "outputs": [],
   "source": [
    "angle_labels = np.zeros((json_paths.shape[0], 1))\n",
    "throttle_labels = np.zeros((json_paths.shape[0], 1))\n",
    "labels =  np.zeros((json_paths.shape[0], 2))\n",
    "for i in range(json_paths.shape[0]):\n",
    "    json_data = json.load(open(json_paths[i]))\n",
    "    angle_labels[i] = json_data[\"user/angle\"]\n",
    "    throttle_labels[i] = json_data[\"user/throttle\"]\n",
    "    labels[i][0] = angle_labels[i]\n",
    "    labels[i][1] = throttle_labels[i]"
   ]
  },
  {
   "cell_type": "code",
   "execution_count": 5,
   "metadata": {},
   "outputs": [
    {
     "data": {
      "text/plain": [
       "(10115,)"
      ]
     },
     "execution_count": 5,
     "metadata": {},
     "output_type": "execute_result"
    }
   ],
   "source": [
    "#data_npy_path = \"10113_donkey_data.npy\"\n",
    "#labels_npy_path = \"10113_donkey_labels.npy\"\n",
    "#np.save(os.path.join(data_save_dir, data_npy_path), data)\n",
    "#np.save(os.path.join(data_save_dir, labels_npy_path), labels)\n",
    "angle_labels = angle_labels.reshape((angle_labels.shape[0],))\n",
    "angle_labels.shape"
   ]
  },
  {
   "cell_type": "code",
   "execution_count": 6,
   "metadata": {},
   "outputs": [
    {
     "data": {
      "image/png": "[encoded data removed]",
      "text/plain": [
       "<matplotlib.figure.Figure at 0x7f12a495a358>"
      ]
     },
     "metadata": {},
     "output_type": "display_data"
    }
   ],
   "source": [
    "h = np.histogram(angle_labels)[0]\n",
    "plt.plot(h)\n",
    "plt.show()"
   ]
  },
  {
   "cell_type": "code",
   "execution_count": 7,
   "metadata": {},
   "outputs": [
    {
     "data": {
      "image/png": "[encoded data removed]",
      "text/plain": [
       "<matplotlib.figure.Figure at 0x7f12a42af748>"
      ]
     },
     "metadata": {},
     "output_type": "display_data"
    }
   ],
   "source": [
    "h = np.histogram(throttle_labels)[0]\n",
    "plt.plot(h)\n",
    "plt.show()"
   ]
  },
  {
   "cell_type": "markdown",
   "metadata": {},
   "source": [
    "### 1) Regression Test"
   ]
  },
  {
   "cell_type": "code",
   "execution_count": 9,
   "metadata": {
    "collapsed": true
   },
   "outputs": [],
   "source": [
    "def myRegressionCnn():\n",
    "    img_in = Input(shape=(120, 160, 3), name='img_in')                      # First layer, input layer, Shape comes from camera.py resolution, RGB\n",
    "    x = img_in\n",
    "    x = Convolution2D(24, (5,5), strides=(2,2), activation='relu')(x)       # 24 features, 5 pixel x 5 pixel kernel (convolution, feauture) window, 2wx2h stride, relu activation\n",
    "    x = Convolution2D(32, (5,5), strides=(2,2), activation='relu')(x)       # 32 features, 5px5p kernel window, 2wx2h stride, relu activatiion\n",
    "    x = Convolution2D(64, (5,5), strides=(2,2), activation='relu')(x)       # 64 features, 5px5p kernal window, 2wx2h stride, relu\n",
    "    x = Convolution2D(64, (3,3), strides=(2,2), activation='relu')(x)       # 64 features, 3px3p kernal window, 2wx2h stride, relu\n",
    "    x = Convolution2D(64, (3,3), strides=(1,1), activation='relu')(x)       # 64 features, 3px3p kernal window, 1wx1h stride, relu\n",
    "\n",
    "    # Possibly add MaxPooling (will make it less sensitive to position in image).  Camera angle fixed, so may not to be needed\n",
    "\n",
    "    x = Flatten(name='flattened')(x)                                        # Flatten to 1D (Fully connected)\n",
    "    x = Dense(100, activation='linear')(x)                                    # Classify the data into 100 features, make all negatives 0\n",
    "    x = Dropout(.1)(x)                                                      # Randomly drop out (turn off) 10% of the neurons (Prevent overfitting)\n",
    "    x = Dense(50, activation='linear')(x)                                     # Classify the data into 50 features, make all negatives 0\n",
    "    x = Dropout(.1)(x)                                                      # Randomly drop out 10% of the neurons (Prevent overfitting)\n",
    "    #categorical output of the angle\n",
    "    angle_out = Dense(1, activation='linear', name='angle_out')(x)        # Connect every input with every output and output 15 hidden units. Use Softmax to give percentage. 15 categories and find best one based off percentage 0.0-1.0\n",
    "    \n",
    "    #continous output of throttle\n",
    "    throttle_out = Dense(1, activation='linear', name='throttle_out')(x)      # Reduce to 1 number, Positive number only\n",
    "    \n",
    "    model = Model(inputs=[img_in], outputs=[angle_out, throttle_out])\n",
    "    model.compile(optimizer='adam',\n",
    "                  loss={'angle_out': 'mean_squared_error',\n",
    "                        'throttle_out': 'mean_squared_error'},\n",
    "                  loss_weights={'angle_out': 0.9, 'throttle_out': .001})\n",
    "    return model"
   ]
  },
  {
   "cell_type": "code",
   "execution_count": null,
   "metadata": {
    "collapsed": true
   },
   "outputs": [],
   "source": [
    "model = myRegressionCnn()"
   ]
  },
  {
   "cell_type": "code",
   "execution_count": null,
   "metadata": {},
   "outputs": [
    {
     "name": "stdout",
     "output_type": "stream",
     "text": [
      "Train on 6777 samples, validate on 3338 samples\n",
      "Epoch 1/10\n",
      "6777/6777 [==============================] - 25s 4ms/step - loss: 5.7083 - angle_out_loss: 6.3402 - throttle_out_loss: 2.0680 - val_loss: 0.0652 - val_angle_out_loss: 0.0724 - val_throttle_out_loss: 0.0154\n",
      "Epoch 2/10\n",
      "6777/6777 [==============================] - 25s 4ms/step - loss: 0.0844 - angle_out_loss: 0.0937 - throttle_out_loss: 0.0314 - val_loss: 0.0669 - val_angle_out_loss: 0.0743 - val_throttle_out_loss: 0.0117\n",
      "Epoch 3/10\n",
      "6777/6777 [==============================] - 25s 4ms/step - loss: 0.0785 - angle_out_loss: 0.0872 - throttle_out_loss: 0.0128 - val_loss: 0.0669 - val_angle_out_loss: 0.0743 - val_throttle_out_loss: 0.0120\n",
      "Epoch 4/10\n",
      "6777/6777 [==============================] - 25s 4ms/step - loss: 0.0769 - angle_out_loss: 0.0854 - throttle_out_loss: 0.0106 - val_loss: 0.0652 - val_angle_out_loss: 0.0724 - val_throttle_out_loss: 0.0076\n",
      "Epoch 5/10\n",
      "6777/6777 [==============================] - 25s 4ms/step - loss: 0.0765 - angle_out_loss: 0.0850 - throttle_out_loss: 0.0031 - val_loss: 0.0657 - val_angle_out_loss: 0.0730 - val_throttle_out_loss: 0.0017\n",
      "Epoch 6/10\n",
      "6777/6777 [==============================] - 25s 4ms/step - loss: 0.0761 - angle_out_loss: 0.0845 - throttle_out_loss: 0.0018 - val_loss: 0.0666 - val_angle_out_loss: 0.0740 - val_throttle_out_loss: 0.0018\n",
      "Epoch 7/10\n",
      "6777/6777 [==============================] - 25s 4ms/step - loss: 0.0762 - angle_out_loss: 0.0847 - throttle_out_loss: 0.0018 - val_loss: 0.0663 - val_angle_out_loss: 0.0736 - val_throttle_out_loss: 0.0019\n",
      "Epoch 8/10\n",
      "6777/6777 [==============================] - 26s 4ms/step - loss: 0.0760 - angle_out_loss: 0.0845 - throttle_out_loss: 0.0018 - val_loss: 0.0668 - val_angle_out_loss: 0.0743 - val_throttle_out_loss: 0.0018\n",
      "Epoch 9/10\n",
      "6777/6777 [==============================] - 25s 4ms/step - loss: 0.0760 - angle_out_loss: 0.0845 - throttle_out_loss: 0.0018 - val_loss: 0.0652 - val_angle_out_loss: 0.0724 - val_throttle_out_loss: 0.0017\n",
      "Epoch 10/10\n",
      "2272/6777 [=========>....................] - ETA: 14s - loss: 0.0745 - angle_out_loss: 0.0828 - throttle_out_loss: 0.0018"
     ]
    }
   ],
   "source": [
    "hist = model.fit(data, [angle_labels, throttle_labels], validation_split=0.33, epochs=10, batch_size=16)"
   ]
  },
  {
   "cell_type": "code",
   "execution_count": null,
   "metadata": {},
   "outputs": [],
   "source": [
    "plt.plot(hist.history[\"loss\"])\n",
    "plt.plot(hist.history[\"val_loss\"])\n",
    "plt.show()"
   ]
  },
  {
   "cell_type": "code",
   "execution_count": null,
   "metadata": {
    "collapsed": true
   },
   "outputs": [],
   "source": [
    "model.save(\"models/hive_fast_driving.h5\")"
   ]
  }
 ],
 "metadata": {
  "kernelspec": {
   "display_name": "Python 3",
   "language": "python",
   "name": "python3"
  },
  "language_info": {
   "codemirror_mode": {
    "name": "ipython",
    "version": 3
   },
   "file_extension": ".py",
   "mimetype": "text/x-python",
   "name": "python",
   "nbconvert_exporter": "python",
   "pygments_lexer": "ipython3",
   "version": "3.5.3"
  }
 },
 "nbformat": 4,
 "nbformat_minor": 2
}
