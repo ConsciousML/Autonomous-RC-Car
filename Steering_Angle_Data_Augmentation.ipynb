{
 "cells": [
  {
   "cell_type": "code",
   "execution_count": 41,
   "metadata": {
    "collapsed": true
   },
   "outputs": [],
   "source": [
    "import numpy as np\n",
    "import cv2\n",
    "import os\n",
    "from src.learning.processing import parse\n",
    "data_dir = \"src/client/pictures/\"\n",
    "flip_dir = data_dir"
   ]
  },
  {
   "cell_type": "code",
   "execution_count": 42,
   "metadata": {
    "collapsed": true
   },
   "outputs": [],
   "source": [
    "#files = parse.get_filenames(data_dir + left_dir)\n",
    "files = parse.get_filenames(data_dir)"
   ]
  },
  {
   "cell_type": "code",
   "execution_count": 43,
   "metadata": {
    "collapsed": true
   },
   "outputs": [],
   "source": [
    "if not os.path.exists(flip_dir):\n",
    "    os.makedirs(flip_dir)\n",
    "def flip_angle(label):\n",
    "    if (label >= 125):\n",
    "        diff = label - 125\n",
    "        return 125 - diff\n",
    "    else:\n",
    "        diff = 125 - label\n",
    "        return 125 + diff"
   ]
  },
  {
   "cell_type": "code",
   "execution_count": 44,
   "metadata": {},
   "outputs": [
    {
     "data": {
      "text/plain": [
       "3"
      ]
     },
     "execution_count": 44,
     "metadata": {},
     "output_type": "execute_result"
    }
   ],
   "source": [
    "len(files)"
   ]
  },
  {
   "cell_type": "code",
   "execution_count": 45,
   "metadata": {},
   "outputs": [],
   "source": [
    "def flip_dataset(files, directory):\n",
    "    i = len(files) + 1\n",
    "    print(len(files))\n",
    "    for f in files:\n",
    "        img = cv2.imread(f, 1)\n",
    "        img = cv2.flip(img, 1)\n",
    "        f = f.split(\"_\")\n",
    "        angle = f[1]\n",
    "        speed = f[2].rstrip(f[2][-4:])\n",
    "        angle = flip_angle(int(angle))\n",
    "        img_path = directory + str(i) + \"_\" + str(angle) + \"_\" + str(speed) + \".jpg\"\n",
    "        cv2.imwrite(img_path, img)\n",
    "        print(img_path)\n",
    "        i += 1"
   ]
  },
  {
   "cell_type": "code",
   "execution_count": 46,
   "metadata": {},
   "outputs": [
    {
     "name": "stdout",
     "output_type": "stream",
     "text": [
      "3\n",
      "src/client/pictures/4_125_102.jpg\n",
      "src/client/pictures/5_35_77.jpg\n",
      "src/client/pictures/6_125_102.jpg\n"
     ]
    }
   ],
   "source": [
    "flip_dataset(files, data_dir)"
   ]
  },
  {
   "cell_type": "code",
   "execution_count": null,
   "metadata": {
    "collapsed": true
   },
   "outputs": [],
   "source": []
  },
  {
   "cell_type": "code",
   "execution_count": null,
   "metadata": {
    "collapsed": true
   },
   "outputs": [],
   "source": []
  }
 ],
 "metadata": {
  "kernelspec": {
   "display_name": "Python 3",
   "language": "python",
   "name": "python3"
  },
  "language_info": {
   "codemirror_mode": {
    "name": "ipython",
    "version": 3
   },
   "file_extension": ".py",
   "mimetype": "text/x-python",
   "name": "python",
   "nbconvert_exporter": "python",
   "pygments_lexer": "ipython3",
   "version": "3.5.3"
  }
 },
 "nbformat": 4,
 "nbformat_minor": 2
}
