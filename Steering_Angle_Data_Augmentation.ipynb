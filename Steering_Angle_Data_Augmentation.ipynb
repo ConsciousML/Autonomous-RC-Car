{
 "cells": [
  {
   "cell_type": "code",
   "execution_count": null,
   "metadata": {
    "collapsed": true
   },
   "outputs": [],
   "source": [
    "import numpy as np\n",
    "import cv2\n",
    "import os\n",
    "from src.learning.processing import parse\n",
    "data_dir = \"pictures/\"\n",
    "flip_dir = \"pictures/flip/\""
   ]
  },
  {
   "cell_type": "code",
   "execution_count": null,
   "metadata": {
    "collapsed": true
   },
   "outputs": [],
   "source": [
    "#files = parse.get_filenames(data_dir + left_dir)\n",
    "files = parse.get_filenames(data_dir)"
   ]
  },
  {
   "cell_type": "code",
   "execution_count": null,
   "metadata": {},
   "outputs": [],
   "source": [
    "if not os.path.exists(flip_dir):\n",
    "    os.makedirs(flip_dir)\n",
    "def flip_angle(label):\n",
    "    if (label >= 125):\n",
    "        diff = label - 125\n",
    "        return 125 - diff\n",
    "    else:\n",
    "        diff = 125 - label\n",
    "        return 125 + diff"
   ]
  },
  {
   "cell_type": "code",
   "execution_count": null,
   "metadata": {},
   "outputs": [],
   "source": [
    "len(files)"
   ]
  },
  {
   "cell_type": "code",
   "execution_count": null,
   "metadata": {
    "collapsed": true
   },
   "outputs": [],
   "source": [
    "def flip_dataset(files, directory):\n",
    "    i = 0\n",
    "    print(len(files))\n",
    "    for f in files:\n",
    "        print(i)\n",
    "        img = cv2.imread(f, 1)\n",
    "        img = cv2.flip(img, 1)\n",
    "        angle = flip_angle(int(f[:-4].split(\"_\")[1]))\n",
    "        img_path = directory + str(i) + \"_\" + str(angle) + \".jpg\"\n",
    "        cv2.imwrite(img_path, img)\n",
    "        print(img_path)\n",
    "        i += 1"
   ]
  },
  {
   "cell_type": "code",
   "execution_count": null,
   "metadata": {},
   "outputs": [],
   "source": [
    "flip_dataset(files, flip_dir)"
   ]
  },
  {
   "cell_type": "code",
   "execution_count": null,
   "metadata": {
    "collapsed": true
   },
   "outputs": [],
   "source": []
  }
 ],
 "metadata": {
  "kernelspec": {
   "display_name": "Python 3",
   "language": "python",
   "name": "python3"
  },
  "language_info": {
   "codemirror_mode": {
    "name": "ipython",
    "version": 3
   },
   "file_extension": ".py",
   "mimetype": "text/x-python",
   "name": "python",
   "nbconvert_exporter": "python",
   "pygments_lexer": "ipython3",
   "version": "3.5.3"
  }
 },
 "nbformat": 4,
 "nbformat_minor": 2
}
