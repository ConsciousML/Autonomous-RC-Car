{
 "cells": [
  {
   "cell_type": "code",
   "execution_count": 1,
   "metadata": {},
   "outputs": [
    {
     "name": "stderr",
     "output_type": "stream",
     "text": [
      "Using TensorFlow backend.\n"
     ]
    }
   ],
   "source": [
    "import os\n",
    "import glob\n",
    "import numpy as np\n",
    "import cv2\n",
    "import json\n",
    "import matplotlib.pyplot as plt\n",
    "from pprint import pprint\n",
    "from keras.preprocessing.image import ImageDataGenerator\n",
    "from keras.callbacks import ModelCheckpoint\n",
    "from keras.layers import Input, Dense, merge\n",
    "from keras.models import Model\n",
    "from keras.layers import Convolution2D, MaxPooling2D, Reshape, BatchNormalization\n",
    "from keras.layers import Activation, Dropout, Flatten, Dense\n",
    "from src.learning.processing import parse\n",
    "from keras.layers import LSTM\n",
    "from keras.layers.wrappers import TimeDistributed as TD\n",
    "data_dir = \"src/client/pictures/\"\n",
    "data_save_dir = \"datasets/npy/\"\n",
    "big_dir = \"tawn_dataset/\"\n",
    "\n",
    "def normalize_label(old_val, old_min, old_max, new_min, new_max):\n",
    "    old_val = float(old_val)\n",
    "    new_val = (((old_val - old_min) * (new_max - new_min)) / (old_max - old_min)) + new_min\n",
    "    return new_val"
   ]
  },
  {
   "cell_type": "markdown",
   "metadata": {},
   "source": [
    "### CAUTION flip only once !"
   ]
  },
  {
   "cell_type": "markdown",
   "metadata": {},
   "source": [
    "files = parse.get_filenames(data_dir)\n",
    "flip_dir = data_dir\n",
    "if not os.path.exists(flip_dir):\n",
    "    os.makedirs(flip_dir)\n",
    "    \n",
    "def flip_angle(label):\n",
    "    if (label >= 125):\n",
    "        diff = label - 125\n",
    "        return 125 - diff\n",
    "    else:\n",
    "        diff = 125 - label\n",
    "        return 125 + diff\n",
    "    \n",
    "def flip_dataset(files, directory):\n",
    "    i = len(files) + 1\n",
    "    print(len(files))\n",
    "    for f in files:\n",
    "        img = cv2.imread(f, 1)\n",
    "        img = cv2.flip(img, 1)\n",
    "        f = f.split(\"_\")\n",
    "        angle = f[1]\n",
    "        speed = f[2].rstrip(f[2][-4:])\n",
    "        angle = flip_angle(int(angle))\n",
    "        img_path = directory + str(i) + \"_\" + str(angle) + \"_\" + str(speed) + \".jpg\"\n",
    "        cv2.imwrite(img_path, img)\n",
    "        print(img_path)\n",
    "        i += 1\n",
    "        \n",
    "flip_dataset(files, data_dir)"
   ]
  },
  {
   "cell_type": "markdown",
   "metadata": {},
   "source": [
    "for root, dirs, files in os.walk(data_dir):\n",
    "    for file in files:\n",
    "        s = file.split(\"_\")\n",
    "        f = padding_img_id(s[0]) + \"_\" + s[1] + \"_\" + s[2]\n",
    "        os.rename(data_dir + file, data_dir + f)"
   ]
  },
  {
   "cell_type": "code",
   "execution_count": 36,
   "metadata": {},
   "outputs": [],
   "source": [
    "image_paths = []\n",
    "angle_labels = []\n",
    "speed_labels = []\n",
    "for root, dirs, files in os.walk(data_dir):\n",
    "    files = sorted(files)\n",
    "    for file in files:\n",
    "        if file.endswith(\".jpg\"):\n",
    "            filename = os.path.join(root, file)\n",
    "            image_paths.append(filename)\n",
    "            s = filename.split(\"_\")\n",
    "            angle_labels.append(float(s[1]))\n",
    "            speed_labels.append(float(s[2].rstrip(s[2][-4:])))\n",
    "image_paths = np.array(image_paths)\n",
    "angle_labels = np.array(angle_labels)\n",
    "speed_labels = np.array(speed_labels)"
   ]
  },
  {
   "cell_type": "code",
   "execution_count": 37,
   "metadata": {},
   "outputs": [
    {
     "data": {
      "text/plain": [
       "((3587,), (3587,), (3587,))"
      ]
     },
     "execution_count": 37,
     "metadata": {},
     "output_type": "execute_result"
    }
   ],
   "source": [
    "(angle_labels.shape, speed_labels.shape, image_paths.shape)"
   ]
  },
  {
   "cell_type": "code",
   "execution_count": 38,
   "metadata": {},
   "outputs": [],
   "source": [
    "from random import shuffle\n",
    "\n",
    "def build_dataset(datas):\n",
    "    dataset = np.zeros((datas.shape[0], 120, 160, 3))\n",
    "    for i in range(datas.shape[0]):    \n",
    "        img = cv2.imread(datas[i])\n",
    "        y1 = int(img.shape[0] / 2)\n",
    "        img = img[y1:, :]\n",
    "        img = cv2.resize(img, (160, 120), interpolation = cv2.INTER_CUBIC)\n",
    "        dataset[i, :, :, :] = img\n",
    "    return dataset\n",
    "\n",
    "def build_labels(datas):\n",
    "    labels = np.array([data[1] for data in datas])\n",
    "    return to_categorical(labels, 15)\n",
    "\n",
    "\n",
    "def myGenerator(datas, angle_labels, speed_labels, batch=16):\n",
    "    i = 0\n",
    "    while (i < datas.shape[0]):\n",
    "        if (i == 0):\n",
    "            loaded_img = build_dataset(datas[:batch])\n",
    "        else:\n",
    "            loaded_img = build_dataset(datas[(i - 2):(i + batch)])\n",
    "        \n",
    "        nb_batch = i\n",
    "        x = np.zeros((batch, 3, 120, 160, 3))\n",
    "        y = np.zeros((batch, 2))\n",
    "        \n",
    "        u = 0\n",
    "        \n",
    "        while (nb_batch < i + batch and nb_batch < datas.shape[0]):\n",
    "            if (nb_batch == 0):\n",
    "                x[u, 0, :, :, :] = loaded_img[u]\n",
    "                x[u, 1, :, :, :] = loaded_img[u]\n",
    "                x[u, 2, :, :, :] = loaded_img[u]\n",
    "            elif (nb_batch == 1):\n",
    "                x[u, 0, :, :, :] = loaded_img[u]\n",
    "                x[u, 1, :, :, :] = loaded_img[u - 1]\n",
    "                x[u, 2, :, :, :] = loaded_img[u - 1]\n",
    "            elif (i == 0):\n",
    "                x[u, 0, :, :, :] = loaded_img[u]\n",
    "                x[u, 1, :, :, :] = loaded_img[u - 1]\n",
    "                x[u, 2, :, :, :] = loaded_img[u - 2]\n",
    "            else:\n",
    "                idx = u + 2\n",
    "                x[u, 0, :, :, :] = loaded_img[idx]\n",
    "                x[u, 1, :, :, :] = loaded_img[idx - 1]\n",
    "                x[u, 2, :, :, :] = loaded_img[idx - 2]\n",
    "                cv2.imwrite(\"img0.png\", loaded_img[idx])\n",
    "                cv2.imwrite(\"img1.png\", loaded_img[idx - 1])\n",
    "                cv2.imwrite(\"img2.png\", loaded_img[idx - 2])\n",
    "            y[u, 0] = angle_labels[nb_batch]\n",
    "            y[u, 1] = speed_labels[nb_batch]\n",
    "            nb_batch += 1\n",
    "            u += 1\n",
    "        print(x.shape, y.shape)\n",
    "        yield x, y\n",
    "        i += batch"
   ]
  },
  {
   "cell_type": "code",
   "execution_count": 39,
   "metadata": {},
   "outputs": [],
   "source": [
    "gen = myGenerator(image_paths, angle_labels, speed_labels, 16)"
   ]
  },
  {
   "cell_type": "code",
   "execution_count": 43,
   "metadata": {},
   "outputs": [
    {
     "name": "stdout",
     "output_type": "stream",
     "text": [
      "(16, 3, 120, 160, 3) (16, 2)\n"
     ]
    }
   ],
   "source": [
    "x, y = next(gen)"
   ]
  },
  {
   "cell_type": "code",
   "execution_count": null,
   "metadata": {},
   "outputs": [],
   "source": [
    "data = np.zeros((image_paths.shape[0], 120, 160, 3))\n",
    "for i in range(image_paths.shape[0]):\n",
    "    img = cv2.imread(image_paths[i])\n",
    "    y1 = int(img.shape[0] / 2)\n",
    "    img = img[y1:, :]\n",
    "    img = cv2.resize(img, (160, 120), interpolation = cv2.INTER_CUBIC)\n",
    "    data[i] = img"
   ]
  },
  {
   "cell_type": "code",
   "execution_count": null,
   "metadata": {},
   "outputs": [],
   "source": [
    "data.shape"
   ]
  },
  {
   "cell_type": "code",
   "execution_count": null,
   "metadata": {
    "collapsed": true
   },
   "outputs": [],
   "source": [
    "angle_labels = ((angle_labels - 35) / 170.0 - 0.5) * 2\n",
    "idx = 0\n",
    "for spd in speed_labels:\n",
    "    speed_labels[idx] = normalize_label(spd, 40, 102, 0, 1)\n",
    "    idx += 1"
   ]
  },
  {
   "cell_type": "code",
   "execution_count": null,
   "metadata": {},
   "outputs": [],
   "source": [
    "print(str(speed_labels))"
   ]
  },
  {
   "cell_type": "code",
   "execution_count": null,
   "metadata": {},
   "outputs": [],
   "source": [
    "print(str(angle_labels))"
   ]
  },
  {
   "cell_type": "code",
   "execution_count": null,
   "metadata": {},
   "outputs": [],
   "source": [
    "plt.hist(angle_labels, bins=30)\n",
    "plt.show()"
   ]
  },
  {
   "cell_type": "code",
   "execution_count": null,
   "metadata": {},
   "outputs": [],
   "source": [
    "plt.hist(speed_labels, bins=30)\n",
    "plt.show()"
   ]
  },
  {
   "cell_type": "code",
   "execution_count": null,
   "metadata": {
    "collapsed": true
   },
   "outputs": [],
   "source": [
    "def AnglePredCnn():\n",
    "    img_in = Input(shape=(120, 160, 3), name='img_in')                      # First layer, input layer, Shape comes from camera.py resolution, RGB\n",
    "    x = img_in\n",
    "    x = Convolution2D(24, (5,5), strides=(2,2), activation='relu')(x)       # 24 features, 5 pixel x 5 pixel kernel (convolution, feauture) window, 2wx2h stride, relu activation\n",
    "    x = Convolution2D(32, (5,5), strides=(2,2), activation='relu')(x)       # 32 features, 5px5p kernel window, 2wx2h stride, relu activatiion\n",
    "    x = Convolution2D(64, (5,5), strides=(2,2), activation='relu')(x)       # 64 features, 5px5p kernal window, 2wx2h stride, relu\n",
    "    x = Convolution2D(64, (3,3), strides=(2,2), activation='relu')(x)       # 64 features, 3px3p kernal window, 2wx2h stride, relu\n",
    "    x = Convolution2D(64, (3,3), strides=(1,1), activation='relu')(x)       # 64 features, 3px3p kernal window, 1wx1h stride, relu\n",
    "\n",
    "    # Possibly add MaxPooling (will make it less sensitive to position in image).  Camera angle fixed, so may not to be needed\n",
    "\n",
    "    x = Flatten(name='flattened')(x)                                        # Flatten to 1D (Fully connected)\n",
    "    x = Dense(100, activation='linear')(x)                                    # Classify the data into 100 features, make all negatives 0\n",
    "    x = Dropout(.1)(x)                                                      # Randomly drop out (turn off) 10% of the neurons (Prevent overfitting)\n",
    "    x = Dense(50, activation='linear')(x)                                     # Classify the data into 50 features, make all negatives 0\n",
    "    x = Dropout(.1)(x)                                                      # Randomly drop out 10% of the neurons (Prevent overfitting)\n",
    "    #categorical output of the angle\n",
    "    angle_out = Dense(1, activation='linear', name='angle_out')(x)        # Connect every input with every output and output 15 hidden units. Use Softmax to give percentage. 15 categories and find best one based off percentage 0.0-1.0\n",
    "    \n",
    "    #continous output of throttle\n",
    "    throttle_out = Dense(1, activation='linear', name='throttle_out')(x)      # Reduce to 1 number, Positive number only\n",
    "    \n",
    "    model = Model(inputs=[img_in], outputs=[angle_out, throttle_out])\n",
    "    model.compile(optimizer='adam',\n",
    "                  loss={'angle_out': 'mean_squared_error',\n",
    "                        'throttle_out': 'mean_squared_error'},\n",
    "                  loss_weights={'angle_out': 0.9, 'throttle_out': .001})\n",
    "    return model\n",
    "\n"
   ]
  },
  {
   "cell_type": "code",
   "execution_count": null,
   "metadata": {
    "collapsed": true
   },
   "outputs": [],
   "source": [
    "def rnn_lstm(seq_length=3, num_outputs=2, image_shape=(120,160,3)):\n",
    "\n",
    "    img_seq_shape = (seq_length,) + image_shape   \n",
    "    img_in = Input(batch_shape = img_seq_shape, name='img_in')\n",
    "    \n",
    "    x = Sequential()\n",
    "    #x.add(TD(Cropping2D(cropping=((60,0), (0,0))), input_shape=img_seq_shape )) #trim 60 pixels off top\n",
    "    x.add(TD(Convolution2D(24, (5,5), strides=(2,2), activation='relu'), input_shape=img_seq_shape))\n",
    "    x.add(TD(Convolution2D(32, (5,5), strides=(2,2), activation='relu')))\n",
    "    x.add(TD(Convolution2D(64, (3,3), strides=(2,2), activation='relu')))\n",
    "    x.add(TD(Convolution2D(64, (3,3), strides=(1,1), activation='relu')))\n",
    "    x.add(TD(Convolution2D(64, (3,3), strides=(1,1), activation='relu')))\n",
    "    x.add(TD(Flatten(name='flattened')))\n",
    "    x.add(TD(Dense(100, activation='relu')))\n",
    "    x.add(TD(Dropout(.1)))\n",
    "      \n",
    "    x.add(LSTM(128, return_sequences=True, name=\"LSTM_seq\"))\n",
    "    x.add(Dropout(.1))\n",
    "    x.add(LSTM(128, return_sequences=False, name=\"LSTM_out\"))\n",
    "    x.add(Dropout(.1))\n",
    "    x.add(Dense(50, activation='relu'))\n",
    "    x.add(Dropout(.1))\n",
    "    x.add(Dense(num_outputs, activation='linear', name='model_outputs'))\n",
    "    \n",
    "    x.compile(optimizer='adam', loss='mse')\n",
    "    \n",
    "    print(x.summary())\n",
    "\n",
    "    return x"
   ]
  },
  {
   "cell_type": "code",
   "execution_count": null,
   "metadata": {},
   "outputs": [],
   "source": [
    "model = rnn_lstm()"
   ]
  },
  {
   "cell_type": "code",
   "execution_count": null,
   "metadata": {},
   "outputs": [],
   "source": [
    "model_path = os.path.abspath(\"models/speed_model.h5\")\n",
    "checkpointer = ModelCheckpoint(model_path, save_best_only=True, monitor='val_loss', mode='min')\n",
    "hist = model.fit(data, [angle_labels, speed_labels], validation_split=0.1, epochs=6, batch_size=16, callbacks=[checkpointer])"
   ]
  },
  {
   "cell_type": "code",
   "execution_count": null,
   "metadata": {},
   "outputs": [],
   "source": [
    "model.summary()"
   ]
  },
  {
   "cell_type": "code",
   "execution_count": null,
   "metadata": {},
   "outputs": [],
   "source": [
    "plt.plot(hist.history[\"loss\"][1:])\n",
    "plt.plot(hist.history[\"val_loss\"][1:])\n",
    "plt.show()"
   ]
  },
  {
   "cell_type": "code",
   "execution_count": null,
   "metadata": {
    "collapsed": true
   },
   "outputs": [],
   "source": [
    "model.save(\"models/new_cam.h5\")"
   ]
  },
  {
   "cell_type": "code",
   "execution_count": null,
   "metadata": {},
   "outputs": [],
   "source": [
    "plt.hist(model.predict(data)[0], bins=30)\n",
    "plt.show()"
   ]
  },
  {
   "cell_type": "code",
   "execution_count": null,
   "metadata": {},
   "outputs": [],
   "source": [
    "plt.hist(labels, bins=30)\n",
    "plt.show()"
   ]
  },
  {
   "cell_type": "code",
   "execution_count": null,
   "metadata": {},
   "outputs": [],
   "source": [
    "data.shape"
   ]
  },
  {
   "cell_type": "code",
   "execution_count": null,
   "metadata": {},
   "outputs": [],
   "source": [
    "labels.shape"
   ]
  },
  {
   "cell_type": "code",
   "execution_count": null,
   "metadata": {
    "collapsed": true
   },
   "outputs": [],
   "source": [
    "mask = np.where((labels > -0.08) & (labels < 0.08))\n",
    "mask = (np.random.choice(mask[0], int(2 * mask[0].shape[0] / 3), replace=False),)\n",
    "\n",
    "maska = np.ones(labels.shape,dtype=bool)\n",
    "maska[mask] = False"
   ]
  },
  {
   "cell_type": "code",
   "execution_count": null,
   "metadata": {},
   "outputs": [],
   "source": [
    "labels[maska].shape"
   ]
  },
  {
   "cell_type": "code",
   "execution_count": null,
   "metadata": {
    "collapsed": true
   },
   "outputs": [],
   "source": [
    "labels = labels[maska]\n",
    "data = data[maska]"
   ]
  },
  {
   "cell_type": "code",
   "execution_count": null,
   "metadata": {},
   "outputs": [],
   "source": [
    "plt.hist(labels, bins=30)\n",
    "plt.show()"
   ]
  },
  {
   "cell_type": "code",
   "execution_count": null,
   "metadata": {},
   "outputs": [],
   "source": [
    "test = myGenerator(image_paths, labels, 16)\n",
    "for j in range(0, 4):\n",
    "    x, y = next(test)\n",
    "    print(x.shape)\n",
    "    print(y.shape)"
   ]
  },
  {
   "cell_type": "code",
   "execution_count": null,
   "metadata": {
    "collapsed": true
   },
   "outputs": [],
   "source": []
  }
 ],
 "metadata": {
  "kernelspec": {
   "display_name": "Python 3",
   "language": "python",
   "name": "python3"
  },
  "language_info": {
   "codemirror_mode": {
    "name": "ipython",
    "version": 3
   },
   "file_extension": ".py",
   "mimetype": "text/x-python",
   "name": "python",
   "nbconvert_exporter": "python",
   "pygments_lexer": "ipython3",
   "version": "3.5.3"
  }
 },
 "nbformat": 4,
 "nbformat_minor": 2
}
