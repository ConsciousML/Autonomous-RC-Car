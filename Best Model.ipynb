{
 "cells": [
  {
   "cell_type": "code",
   "execution_count": 40,
   "metadata": {},
   "outputs": [],
   "source": [
    "import os\n",
    "import glob\n",
    "import numpy as np\n",
    "import cv2\n",
    "import json\n",
    "import matplotlib.pyplot as plt\n",
    "from pprint import pprint\n",
    "from keras.preprocessing.image import ImageDataGenerator\n",
    "from keras.layers import Input, Dense, merge\n",
    "from keras.models import Model\n",
    "from keras.layers import Convolution2D, MaxPooling2D, Reshape, BatchNormalization\n",
    "from keras.layers import Activation, Dropout, Flatten, Dense\n",
    "data_dir = \"src/client/pictures/\"\n",
    "data_save_dir = \"datasets/npy/\"\n",
    "big_dir = \"tawn_dataset/\"\n",
    "\n",
    "def normalize_label(old_val, old_min, old_max, new_min, new_max):\n",
    "    old_val = float(old_val)\n",
    "    new_val = (((old_val - old_min) * (new_max - new_min)) / (old_max - old_min)) + new_min\n",
    "    return new_val"
   ]
  },
  {
   "cell_type": "code",
   "execution_count": 25,
   "metadata": {},
   "outputs": [
    {
     "name": "stdout",
     "output_type": "stream",
     "text": [
      "angle: 125\n",
      "speed: 102\n",
      "angle: 35\n",
      "speed: 77\n",
      "angle: 125\n",
      "speed: 102\n",
      "angle: 125\n",
      "speed: 102\n",
      "angle: 125\n",
      "speed: 102\n",
      "angle: 205\n",
      "speed: 77\n",
      "angle: 125\n",
      "speed: 102\n",
      "angle: 125\n",
      "speed: 41\n",
      "angle: 151\n",
      "speed: 84\n",
      "angle: 125\n",
      "speed: 102\n",
      "angle: 125\n",
      "speed: 69\n",
      "angle: 125\n",
      "speed: 102\n",
      "angle: 38\n",
      "speed: 64\n",
      "angle: 35\n",
      "speed: 102\n",
      "angle: 125\n",
      "speed: 27\n",
      "angle: 125\n",
      "speed: 97\n",
      "angle: 125\n",
      "speed: 27\n",
      "angle: 171\n",
      "speed: 34\n",
      "angle: 116\n",
      "speed: 102\n",
      "angle: 125\n",
      "speed: 27\n",
      "angle: 184\n",
      "speed: 71\n",
      "angle: 125\n",
      "speed: 27\n",
      "angle: 55\n",
      "speed: 102\n",
      "angle: 199\n",
      "speed: 77\n",
      "angle: 125\n",
      "speed: 102\n",
      "angle: 125\n",
      "speed: 102\n",
      "angle: 125\n",
      "speed: 102\n",
      "angle: 141\n",
      "speed: 79\n",
      "angle: 55\n",
      "speed: 69\n",
      "angle: 125\n",
      "speed: 102\n",
      "angle: 51\n",
      "speed: 83\n",
      "angle: 192\n",
      "speed: 88\n",
      "angle: 125\n",
      "speed: 102\n",
      "angle: 205\n",
      "speed: 85\n",
      "angle: 42\n",
      "speed: 83\n",
      "angle: 116\n",
      "speed: 102\n",
      "angle: 125\n",
      "speed: 102\n",
      "angle: 125\n",
      "speed: 102\n",
      "angle: 38\n",
      "speed: 86\n",
      "angle: 125\n",
      "speed: 102\n",
      "angle: 43\n",
      "speed: 83\n",
      "angle: 192\n",
      "speed: 61\n",
      "angle: 192\n",
      "speed: 67\n",
      "angle: 125\n",
      "speed: 102\n",
      "angle: 35\n",
      "speed: 102\n",
      "angle: 57\n",
      "speed: 64\n",
      "angle: 125\n",
      "speed: 27\n",
      "angle: 77\n",
      "speed: 102\n",
      "angle: 125\n",
      "speed: 102\n",
      "angle: 84\n",
      "speed: 84\n",
      "angle: 192\n",
      "speed: 59\n",
      "angle: 125\n",
      "speed: 102\n",
      "angle: 125\n",
      "speed: 27\n",
      "angle: 35\n",
      "speed: 102\n",
      "angle: 125\n",
      "speed: 102\n",
      "angle: 194\n",
      "speed: 79\n",
      "angle: 125\n",
      "speed: 102\n",
      "angle: 125\n",
      "speed: 102\n",
      "angle: 125\n",
      "speed: 102\n",
      "angle: 125\n",
      "speed: 102\n",
      "angle: 35\n",
      "speed: 102\n",
      "angle: 192\n",
      "speed: 63\n",
      "angle: 197\n",
      "speed: 84\n",
      "angle: 125\n",
      "speed: 27\n",
      "angle: 190\n",
      "speed: 102\n",
      "angle: 125\n",
      "speed: 27\n",
      "angle: 125\n",
      "speed: 27\n",
      "angle: 125\n",
      "speed: 27\n",
      "angle: 125\n",
      "speed: 102\n",
      "angle: 116\n",
      "speed: 72\n",
      "angle: 125\n",
      "speed: 27\n",
      "angle: 194\n",
      "speed: 84\n",
      "angle: 54\n",
      "speed: 74\n",
      "angle: 125\n",
      "speed: 102\n",
      "angle: 125\n",
      "speed: 102\n",
      "angle: 184\n",
      "speed: 61\n",
      "angle: 125\n",
      "speed: 102\n",
      "angle: 125\n",
      "speed: 102\n",
      "angle: 50\n",
      "speed: 64\n",
      "angle: 66\n",
      "speed: 102\n",
      "angle: 37\n",
      "speed: 59\n",
      "angle: 125\n",
      "speed: 102\n",
      "angle: 125\n",
      "speed: 102\n",
      "angle: 125\n",
      "speed: 102\n",
      "angle: 190\n",
      "speed: 68\n",
      "angle: 194\n",
      "speed: 83\n",
      "angle: 197\n",
      "speed: 84\n",
      "angle: 42\n",
      "speed: 61\n",
      "angle: 35\n",
      "speed: 77\n",
      "angle: 125\n",
      "speed: 102\n",
      "angle: 35\n",
      "speed: 102\n",
      "angle: 192\n",
      "speed: 61\n",
      "angle: 125\n",
      "speed: 102\n",
      "angle: 38\n",
      "speed: 99\n",
      "angle: 51\n",
      "speed: 77\n",
      "angle: 38\n",
      "speed: 79\n",
      "angle: 125\n",
      "speed: 102\n",
      "angle: 185\n",
      "speed: 49\n",
      "angle: 125\n",
      "speed: 27\n",
      "angle: 125\n",
      "speed: 102\n",
      "angle: 35\n",
      "speed: 83\n",
      "angle: 50\n",
      "speed: 64\n",
      "angle: 125\n",
      "speed: 102\n",
      "angle: 55\n",
      "speed: 64\n",
      "angle: 182\n",
      "speed: 89\n",
      "angle: 125\n",
      "speed: 102\n",
      "angle: 125\n",
      "speed: 102\n",
      "angle: 125\n",
      "speed: 102\n",
      "angle: 197\n",
      "speed: 84\n",
      "angle: 192\n",
      "speed: 90\n",
      "angle: 125\n",
      "speed: 102\n",
      "angle: 197\n",
      "speed: 84\n",
      "angle: 35\n",
      "speed: 102\n",
      "angle: 35\n",
      "speed: 102\n",
      "angle: 125\n",
      "speed: 87\n",
      "angle: 125\n",
      "speed: 27\n",
      "angle: 125\n",
      "speed: 88\n",
      "angle: 125\n",
      "speed: 27\n",
      "angle: 125\n",
      "speed: 27\n",
      "angle: 125\n",
      "speed: 102\n",
      "angle: 50\n",
      "speed: 42\n",
      "angle: 125\n",
      "speed: 102\n",
      "angle: 125\n",
      "speed: 102\n",
      "angle: 125\n",
      "speed: 66\n",
      "angle: 35\n",
      "speed: 102\n",
      "angle: 125\n",
      "speed: 102\n",
      "angle: 125\n",
      "speed: 102\n",
      "angle: 125\n",
      "speed: 102\n",
      "angle: 125\n",
      "speed: 102\n",
      "angle: 125\n",
      "speed: 102\n",
      "angle: 125\n",
      "speed: 102\n",
      "angle: 197\n",
      "speed: 53\n",
      "angle: 125\n",
      "speed: 102\n",
      "angle: 125\n",
      "speed: 102\n",
      "angle: 187\n",
      "speed: 41\n",
      "angle: 48\n",
      "speed: 102\n",
      "angle: 35\n",
      "speed: 58\n",
      "angle: 125\n",
      "speed: 27\n",
      "angle: 83\n",
      "speed: 53\n",
      "angle: 125\n",
      "speed: 27\n",
      "angle: 125\n",
      "speed: 27\n",
      "angle: 125\n",
      "speed: 27\n",
      "angle: 125\n",
      "speed: 27\n",
      "angle: 125\n",
      "speed: 83\n",
      "angle: 192\n",
      "speed: 67\n",
      "angle: 125\n",
      "speed: 102\n",
      "angle: 176\n",
      "speed: 102\n",
      "angle: 125\n",
      "speed: 102\n",
      "angle: 205\n",
      "speed: 84\n",
      "angle: 192\n",
      "speed: 60\n",
      "angle: 35\n",
      "speed: 50\n",
      "angle: 123\n",
      "speed: 91\n",
      "angle: 55\n",
      "speed: 64\n",
      "angle: 125\n",
      "speed: 102\n",
      "angle: 125\n",
      "speed: 86\n",
      "angle: 131\n",
      "speed: 77\n",
      "angle: 125\n",
      "speed: 102\n",
      "angle: 125\n",
      "speed: 102\n",
      "angle: 205\n",
      "speed: 87\n",
      "angle: 125\n",
      "speed: 102\n",
      "angle: 125\n",
      "speed: 27\n",
      "angle: 125\n",
      "speed: 102\n",
      "angle: 125\n",
      "speed: 102\n",
      "angle: 125\n",
      "speed: 27\n",
      "angle: 125\n",
      "speed: 102\n",
      "angle: 69\n",
      "speed: 55\n",
      "angle: 125\n",
      "speed: 102\n",
      "angle: 190\n",
      "speed: 69\n",
      "angle: 54\n",
      "speed: 102\n",
      "angle: 125\n",
      "speed: 102\n",
      "angle: 125\n",
      "speed: 27\n",
      "angle: 39\n",
      "speed: 102\n",
      "angle: 125\n",
      "speed: 102\n",
      "angle: 35\n",
      "speed: 102\n",
      "angle: 125\n",
      "speed: 94\n",
      "angle: 205\n",
      "speed: 77\n",
      "angle: 35\n",
      "speed: 102\n",
      "angle: 183\n",
      "speed: 71\n",
      "angle: 172\n",
      "speed: 89\n",
      "angle: 125\n",
      "speed: 27\n",
      "angle: 40\n",
      "speed: 54\n",
      "angle: 194\n",
      "speed: 81\n",
      "angle: 125\n",
      "speed: 73\n",
      "angle: 125\n",
      "speed: 27\n",
      "angle: 205\n",
      "speed: 84\n"
     ]
    }
   ],
   "source": [
    "image_paths = []\n",
    "angle_labels = []\n",
    "speed_labels = []\n",
    "for root, dirs, files in os.walk(data_dir):\n",
    "    for file in files:\n",
    "        if file.endswith(\".jpg\"):\n",
    "            filename = os.path.join(root, file)\n",
    "            image_paths.append(filename)\n",
    "            s = filename.split(\"_\")\n",
    "            print(\"angle:\",s[1])\n",
    "            print(\"speed:\",s[2].rstrip(s[2][-4:]))\n",
    "            angle_labels.append(float(s[1]))\n",
    "            speed_labels.append(float(s[2].rstrip(s[2][-4:])))\n",
    "image_paths = np.array(image_paths)\n",
    "angle_labels = np.array(angle_labels)\n",
    "speed_labels = np.array(speed_labels)"
   ]
  },
  {
   "cell_type": "code",
   "execution_count": 26,
   "metadata": {},
   "outputs": [
    {
     "data": {
      "text/plain": [
       "((185,), (185,), (185,))"
      ]
     },
     "execution_count": 26,
     "metadata": {},
     "output_type": "execute_result"
    }
   ],
   "source": [
    "(angle_labels.shape, speed_labels.shape, image_paths.shape)"
   ]
  },
  {
   "cell_type": "code",
   "execution_count": 41,
   "metadata": {},
   "outputs": [],
   "source": [
    "data = np.zeros((image_paths.shape[0], 120, 160, 3))\n",
    "for i in range(image_paths.shape[0]):\n",
    "    img = cv2.imread(image_paths[i])\n",
    "    y1 = int(img.shape[0] / 2)\n",
    "    img = img[y1:, :]\n",
    "    img = cv2.resize(img, (160, 120), interpolation = cv2.INTER_CUBIC)\n",
    "    data[i] = img"
   ]
  },
  {
   "cell_type": "code",
   "execution_count": 28,
   "metadata": {},
   "outputs": [
    {
     "data": {
      "text/plain": [
       "(185, 120, 160, 3)"
      ]
     },
     "execution_count": 28,
     "metadata": {},
     "output_type": "execute_result"
    }
   ],
   "source": [
    "data.shape"
   ]
  },
  {
   "cell_type": "code",
   "execution_count": 44,
   "metadata": {},
   "outputs": [],
   "source": [
    "angle_labels = ((angle_labels - 35) / 170.0 - 0.5) * 2\n",
    "idx = 0\n",
    "for spd in speed_labels:\n",
    "    speed_labels[idx] = normalize_label(spd, 27, 102, 0, 1)\n",
    "    idx += 1"
   ]
  },
  {
   "cell_type": "code",
   "execution_count": 45,
   "metadata": {},
   "outputs": [
    {
     "name": "stdout",
     "output_type": "stream",
     "text": [
      "[ 1.          0.66666667  1.          1.          1.          0.66666667\n",
      "  1.          0.18666667  0.76        1.          0.56        1.\n",
      "  0.49333333  1.          0.          0.93333333  0.          0.09333333\n",
      "  1.          0.          0.58666667  0.          1.          0.66666667\n",
      "  1.          1.          1.          0.69333333  0.56        1.\n",
      "  0.74666667  0.81333333  1.          0.77333333  0.74666667  1.          1.\n",
      "  1.          0.78666667  1.          0.74666667  0.45333333  0.53333333\n",
      "  1.          1.          0.49333333  0.          1.          1.          0.76\n",
      "  0.42666667  1.          0.          1.          1.          0.69333333\n",
      "  1.          1.          1.          1.          1.          0.48        0.76\n",
      "  0.          1.          0.          0.          0.          1.          0.6\n",
      "  0.          0.76        0.62666667  1.          1.          0.45333333\n",
      "  1.          1.          0.49333333  1.          0.42666667  1.          1.\n",
      "  1.          0.54666667  0.74666667  0.76        0.45333333  0.66666667\n",
      "  1.          1.          0.45333333  1.          0.96        0.66666667\n",
      "  0.69333333  1.          0.29333333  0.          1.          0.74666667\n",
      "  0.49333333  1.          0.49333333  0.82666667  1.          1.          1.\n",
      "  0.76        0.84        1.          0.76        1.          1.          0.8\n",
      "  0.          0.81333333  0.          0.          1.          0.2         1.\n",
      "  1.          0.52        1.          1.          1.          1.          1.\n",
      "  1.          1.          0.34666667  1.          1.          0.18666667\n",
      "  1.          0.41333333  0.          0.34666667  0.          0.          0.\n",
      "  0.          0.74666667  0.53333333  1.          1.          1.          0.76\n",
      "  0.44        0.30666667  0.85333333  0.49333333  1.          0.78666667\n",
      "  0.66666667  1.          1.          0.8         1.          0.          1.\n",
      "  1.          0.          1.          0.37333333  1.          0.56        1.\n",
      "  1.          0.          1.          1.          1.          0.89333333\n",
      "  0.66666667  1.          0.58666667  0.82666667  0.          0.36        0.72\n",
      "  0.61333333  0.          0.76      ]\n"
     ]
    }
   ],
   "source": [
    "print(str(speed_labels))"
   ]
  },
  {
   "cell_type": "code",
   "execution_count": 34,
   "metadata": {},
   "outputs": [
    {
     "name": "stdout",
     "output_type": "stream",
     "text": [
      "[ 0.05882353 -1.          0.05882353  0.05882353  0.05882353  1.\n",
      "  0.05882353  0.05882353  0.36470588  0.05882353  0.05882353  0.05882353\n",
      " -0.96470588 -1.          0.05882353  0.05882353  0.05882353  0.6\n",
      " -0.04705882  0.05882353  0.75294118  0.05882353 -0.76470588  0.92941176\n",
      "  0.05882353  0.05882353  0.05882353  0.24705882 -0.76470588  0.05882353\n",
      " -0.81176471  0.84705882  0.05882353  1.         -0.91764706 -0.04705882\n",
      "  0.05882353  0.05882353 -0.96470588  0.05882353 -0.90588235  0.84705882\n",
      "  0.84705882  0.05882353 -1.         -0.74117647  0.05882353 -0.50588235\n",
      "  0.05882353 -0.42352941  0.84705882  0.05882353  0.05882353 -1.\n",
      "  0.05882353  0.87058824  0.05882353  0.05882353  0.05882353  0.05882353\n",
      " -1.          0.84705882  0.90588235  0.05882353  0.82352941  0.05882353\n",
      "  0.05882353  0.05882353  0.05882353 -0.04705882  0.05882353  0.87058824\n",
      " -0.77647059  0.05882353  0.05882353  0.75294118  0.05882353  0.05882353\n",
      " -0.82352941 -0.63529412 -0.97647059  0.05882353  0.05882353  0.05882353\n",
      "  0.82352941  0.87058824  0.90588235 -0.91764706 -1.          0.05882353\n",
      " -1.          0.84705882  0.05882353 -0.96470588 -0.81176471 -0.96470588\n",
      "  0.05882353  0.76470588  0.05882353  0.05882353 -1.         -0.82352941\n",
      "  0.05882353 -0.76470588  0.72941176  0.05882353  0.05882353  0.05882353\n",
      "  0.90588235  0.84705882  0.05882353  0.90588235 -1.         -1.\n",
      "  0.05882353  0.05882353  0.05882353  0.05882353  0.05882353  0.05882353\n",
      " -0.82352941  0.05882353  0.05882353  0.05882353 -1.          0.05882353\n",
      "  0.05882353  0.05882353  0.05882353  0.05882353  0.05882353  0.90588235\n",
      "  0.05882353  0.05882353  0.78823529 -0.84705882 -1.          0.05882353\n",
      " -0.43529412  0.05882353  0.05882353  0.05882353  0.05882353  0.05882353\n",
      "  0.84705882  0.05882353  0.65882353  0.05882353  1.          0.84705882\n",
      " -1.          0.03529412 -0.76470588  0.05882353  0.05882353  0.12941176\n",
      "  0.05882353  0.05882353  1.          0.05882353  0.05882353  0.05882353\n",
      "  0.05882353  0.05882353  0.05882353 -0.6         0.05882353  0.82352941\n",
      " -0.77647059  0.05882353  0.05882353 -0.95294118  0.05882353 -1.\n",
      "  0.05882353  1.         -1.          0.74117647  0.61176471  0.05882353\n",
      " -0.94117647  0.87058824  0.05882353  0.05882353  1.        ]\n"
     ]
    }
   ],
   "source": [
    "print(str(angle_labels))"
   ]
  },
  {
   "cell_type": "code",
   "execution_count": 36,
   "metadata": {},
   "outputs": [
    {
     "data": {
      "image/png": "[encoded data removed]",
      "text/plain": [
       "<matplotlib.figure.Figure at 0x7f76ae9d6f60>"
      ]
     },
     "metadata": {},
     "output_type": "display_data"
    }
   ],
   "source": [
    "plt.hist(angle_labels, bins=30)\n",
    "plt.show()"
   ]
  },
  {
   "cell_type": "code",
   "execution_count": 46,
   "metadata": {},
   "outputs": [
    {
     "data": {
      "image/png": "[encoded data removed]",
      "text/plain": [
       "<matplotlib.figure.Figure at 0x7f76a832c2b0>"
      ]
     },
     "metadata": {},
     "output_type": "display_data"
    }
   ],
   "source": [
    "plt.hist(speed_labels, bins=30)\n",
    "plt.show()"
   ]
  },
  {
   "cell_type": "code",
   "execution_count": 47,
   "metadata": {
    "collapsed": true
   },
   "outputs": [],
   "source": [
    "def AnglePredCnn():\n",
    "    img_in = Input(shape=(120, 160, 3), name='img_in')                      # First layer, input layer, Shape comes from camera.py resolution, RGB\n",
    "    x = img_in\n",
    "    x = Convolution2D(24, (5,5), strides=(2,2), activation='relu')(x)       # 24 features, 5 pixel x 5 pixel kernel (convolution, feauture) window, 2wx2h stride, relu activation\n",
    "    x = Convolution2D(32, (5,5), strides=(2,2), activation='relu')(x)       # 32 features, 5px5p kernel window, 2wx2h stride, relu activatiion\n",
    "    x = Convolution2D(64, (5,5), strides=(2,2), activation='relu')(x)       # 64 features, 5px5p kernal window, 2wx2h stride, relu\n",
    "    x = Convolution2D(64, (3,3), strides=(2,2), activation='relu')(x)       # 64 features, 3px3p kernal window, 2wx2h stride, relu\n",
    "    x = Convolution2D(64, (3,3), strides=(1,1), activation='relu')(x)       # 64 features, 3px3p kernal window, 1wx1h stride, relu\n",
    "\n",
    "    # Possibly add MaxPooling (will make it less sensitive to position in image).  Camera angle fixed, so may not to be needed\n",
    "\n",
    "    x = Flatten(name='flattened')(x)                                        # Flatten to 1D (Fully connected)\n",
    "    x = Dense(100, activation='linear')(x)                                    # Classify the data into 100 features, make all negatives 0\n",
    "    x = Dropout(.1)(x)                                                      # Randomly drop out (turn off) 10% of the neurons (Prevent overfitting)\n",
    "    x = Dense(50, activation='linear')(x)                                     # Classify the data into 50 features, make all negatives 0\n",
    "    x = Dropout(.1)(x)                                                      # Randomly drop out 10% of the neurons (Prevent overfitting)\n",
    "    #categorical output of the angle\n",
    "    angle_out = Dense(1, activation='linear', name='angle_out')(x)        # Connect every input with every output and output 15 hidden units. Use Softmax to give percentage. 15 categories and find best one based off percentage 0.0-1.0\n",
    "    \n",
    "    #continous output of throttle\n",
    "    throttle_out = Dense(1, activation='linear', name='throttle_out')(x)      # Reduce to 1 number, Positive number only\n",
    "    \n",
    "    model = Model(inputs=[img_in], outputs=[angle_out, throttle_out])\n",
    "    model.compile(optimizer='adam',\n",
    "                  loss={'angle_out': 'mean_squared_error',\n",
    "                        'throttle_out': 'mean_squared_error'},\n",
    "                  loss_weights={'angle_out': 0.9, 'throttle_out': .001})\n",
    "    return model"
   ]
  },
  {
   "cell_type": "code",
   "execution_count": 48,
   "metadata": {
    "collapsed": true
   },
   "outputs": [],
   "source": [
    "model = AnglePredCnn()"
   ]
  },
  {
   "cell_type": "code",
   "execution_count": 49,
   "metadata": {},
   "outputs": [
    {
     "name": "stdout",
     "output_type": "stream",
     "text": [
      "Train on 166 samples, validate on 19 samples\n",
      "Epoch 1/6\n",
      "166/166 [==============================] - 4s 25ms/step - loss: 9.9924 - angle_out_loss: 11.0976 - throttle_out_loss: 4.5819 - val_loss: 0.1539 - val_angle_out_loss: 0.1705 - val_throttle_out_loss: 0.3952\n",
      "Epoch 2/6\n",
      "166/166 [==============================] - 1s 3ms/step - loss: 0.3554 - angle_out_loss: 0.3942 - throttle_out_loss: 0.5920 - val_loss: 0.2181 - val_angle_out_loss: 0.2417 - val_throttle_out_loss: 0.6257\n",
      "Epoch 3/6\n",
      "166/166 [==============================] - 1s 3ms/step - loss: 0.1447 - angle_out_loss: 0.1599 - throttle_out_loss: 0.7044 - val_loss: 0.0707 - val_angle_out_loss: 0.0777 - val_throttle_out_loss: 0.7915\n",
      "Epoch 4/6\n",
      "166/166 [==============================] - 1s 3ms/step - loss: 0.0942 - angle_out_loss: 0.1042 - throttle_out_loss: 0.4799 - val_loss: 0.0663 - val_angle_out_loss: 0.0733 - val_throttle_out_loss: 0.2785\n",
      "Epoch 5/6\n",
      "166/166 [==============================] - 1s 3ms/step - loss: 0.0715 - angle_out_loss: 0.0790 - throttle_out_loss: 0.3449 - val_loss: 0.0495 - val_angle_out_loss: 0.0548 - val_throttle_out_loss: 0.2133\n",
      "Epoch 6/6\n",
      "166/166 [==============================] - 1s 3ms/step - loss: 0.0648 - angle_out_loss: 0.0717 - throttle_out_loss: 0.2572 - val_loss: 0.0396 - val_angle_out_loss: 0.0438 - val_throttle_out_loss: 0.2120\n"
     ]
    }
   ],
   "source": [
    "hist = model.fit(data, [angle_labels, speed_labels], validation_split=0.1, epochs=6, batch_size=16)"
   ]
  },
  {
   "cell_type": "code",
   "execution_count": 19,
   "metadata": {},
   "outputs": [
    {
     "name": "stdout",
     "output_type": "stream",
     "text": [
      "__________________________________________________________________________________________________\n",
      "Layer (type)                    Output Shape         Param #     Connected to                     \n",
      "==================================================================================================\n",
      "img_in (InputLayer)             (None, 120, 160, 3)  0                                            \n",
      "__________________________________________________________________________________________________\n",
      "conv2d_1 (Conv2D)               (None, 58, 78, 24)   1824        img_in[0][0]                     \n",
      "__________________________________________________________________________________________________\n",
      "conv2d_2 (Conv2D)               (None, 27, 37, 32)   19232       conv2d_1[0][0]                   \n",
      "__________________________________________________________________________________________________\n",
      "conv2d_3 (Conv2D)               (None, 12, 17, 64)   51264       conv2d_2[0][0]                   \n",
      "__________________________________________________________________________________________________\n",
      "conv2d_4 (Conv2D)               (None, 5, 8, 64)     36928       conv2d_3[0][0]                   \n",
      "__________________________________________________________________________________________________\n",
      "conv2d_5 (Conv2D)               (None, 3, 6, 64)     36928       conv2d_4[0][0]                   \n",
      "__________________________________________________________________________________________________\n",
      "flattened (Flatten)             (None, 1152)         0           conv2d_5[0][0]                   \n",
      "__________________________________________________________________________________________________\n",
      "dense_1 (Dense)                 (None, 100)          115300      flattened[0][0]                  \n",
      "__________________________________________________________________________________________________\n",
      "dropout_1 (Dropout)             (None, 100)          0           dense_1[0][0]                    \n",
      "__________________________________________________________________________________________________\n",
      "dense_2 (Dense)                 (None, 50)           5050        dropout_1[0][0]                  \n",
      "__________________________________________________________________________________________________\n",
      "dropout_2 (Dropout)             (None, 50)           0           dense_2[0][0]                    \n",
      "__________________________________________________________________________________________________\n",
      "angle_out (Dense)               (None, 1)            51          dropout_2[0][0]                  \n",
      "__________________________________________________________________________________________________\n",
      "throttle_out (Dense)            (None, 1)            51          dropout_2[0][0]                  \n",
      "==================================================================================================\n",
      "Total params: 266,628\n",
      "Trainable params: 266,628\n",
      "Non-trainable params: 0\n",
      "__________________________________________________________________________________________________\n"
     ]
    }
   ],
   "source": [
    "model.summary()"
   ]
  },
  {
   "cell_type": "code",
   "execution_count": 15,
   "metadata": {},
   "outputs": [
    {
     "data": {
      "image/png": "[encoded data removed]",
      "text/plain": [
       "<matplotlib.figure.Figure at 0x7f12b464c470>"
      ]
     },
     "metadata": {},
     "output_type": "display_data"
    }
   ],
   "source": [
    "plt.plot(hist.history[\"loss\"][1:])\n",
    "plt.plot(hist.history[\"val_loss\"][1:])\n",
    "plt.show()"
   ]
  },
  {
   "cell_type": "code",
   "execution_count": 16,
   "metadata": {
    "collapsed": true
   },
   "outputs": [],
   "source": [
    "model.save(\"models/new_cam.h5\")"
   ]
  },
  {
   "cell_type": "code",
   "execution_count": 17,
   "metadata": {},
   "outputs": [
    {
     "data": {
      "image/png": "[encoded data removed]",
      "text/plain": [
       "<matplotlib.figure.Figure at 0x7f12b464c828>"
      ]
     },
     "metadata": {},
     "output_type": "display_data"
    }
   ],
   "source": [
    "plt.hist(model.predict(data)[0], bins=30)\n",
    "plt.show()"
   ]
  },
  {
   "cell_type": "code",
   "execution_count": 18,
   "metadata": {},
   "outputs": [
    {
     "data": {
      "image/png": "[encoded data removed]",
      "text/plain": [
       "<matplotlib.figure.Figure at 0x7f12b459e3c8>"
      ]
     },
     "metadata": {},
     "output_type": "display_data"
    }
   ],
   "source": [
    "plt.hist(labels, bins=30)\n",
    "plt.show()"
   ]
  },
  {
   "cell_type": "code",
   "execution_count": 45,
   "metadata": {},
   "outputs": [
    {
     "data": {
      "text/plain": [
       "(1381, 120, 160, 3)"
      ]
     },
     "execution_count": 45,
     "metadata": {},
     "output_type": "execute_result"
    }
   ],
   "source": [
    "data.shape"
   ]
  },
  {
   "cell_type": "code",
   "execution_count": 46,
   "metadata": {},
   "outputs": [
    {
     "data": {
      "text/plain": [
       "(1381,)"
      ]
     },
     "execution_count": 46,
     "metadata": {},
     "output_type": "execute_result"
    }
   ],
   "source": [
    "labels.shape"
   ]
  },
  {
   "cell_type": "code",
   "execution_count": 106,
   "metadata": {
    "collapsed": true
   },
   "outputs": [],
   "source": [
    "mask = np.where((labels > -0.08) & (labels < 0.08))\n",
    "mask = (np.random.choice(mask[0], int(2 * mask[0].shape[0] / 3), replace=False),)\n",
    "\n",
    "maska = np.ones(labels.shape,dtype=bool)\n",
    "maska[mask] = False"
   ]
  },
  {
   "cell_type": "code",
   "execution_count": 107,
   "metadata": {},
   "outputs": [
    {
     "data": {
      "text/plain": [
       "(936,)"
      ]
     },
     "execution_count": 107,
     "metadata": {},
     "output_type": "execute_result"
    }
   ],
   "source": [
    "labels[maska].shape"
   ]
  },
  {
   "cell_type": "code",
   "execution_count": 108,
   "metadata": {
    "collapsed": true
   },
   "outputs": [],
   "source": [
    "labels = labels[maska]\n",
    "data = data[maska]"
   ]
  },
  {
   "cell_type": "code",
   "execution_count": 109,
   "metadata": {},
   "outputs": [
    {
     "data": {
      "image/png": "[encoded data removed]",
      "text/plain": [
       "<matplotlib.figure.Figure at 0x7f538344b630>"
      ]
     },
     "metadata": {},
     "output_type": "display_data"
    }
   ],
   "source": [
    "plt.hist(labels, bins=30)\n",
    "plt.show()"
   ]
  },
  {
   "cell_type": "code",
   "execution_count": 182,
   "metadata": {
    "collapsed": true
   },
   "outputs": [],
   "source": [
    "from random import shuffle\n",
    "\n",
    "def build_dataset(datas):\n",
    "    dataset = np.zeros((len(datas), 120, 160, 3))\n",
    "    for i in range(len(datas)):    \n",
    "        img = cv2.imread(datas[i])\n",
    "        img = img[y1:, :]\n",
    "        img = cv2.resize(img, (160, 120), interpolation = cv2.INTER_CUBIC)\n",
    "        dataset[i,:,:,:] = img\n",
    "        return dataset\n",
    "\n",
    "def build_labels(datas):\n",
    "    labels = np.array([data[1] for data in datas])\n",
    "    return to_categorical(labels, 15)\n",
    "\n",
    "\n",
    "def myGenerator(datas, labels, batch=16):\n",
    "    # For each epoch\n",
    "    while 1:\n",
    "        # Suffle datas\n",
    "        indexes = list(range(len(datas)))\n",
    "        shuffle(indexes)\n",
    "        \n",
    "        # For each batch\n",
    "        for i in range(0, len(datas), batch):\n",
    "            \n",
    "            # Build a batch of datas\n",
    "            batch_data = [datas[indexes[j]] for j in range(i, i + batch) if j < len(datas)]\n",
    "            y = [labels[indexes[j]] for j in range(i, i + batch) if j < len(labels)]\n",
    "            \n",
    "            y = np.array(y)\n",
    "            # Build the dataset for the batch\n",
    "            x = build_dataset(batch_data)\n",
    "            \n",
    "            yield x, y"
   ]
  },
  {
   "cell_type": "code",
   "execution_count": 183,
   "metadata": {},
   "outputs": [
    {
     "name": "stdout",
     "output_type": "stream",
     "text": [
      "(16, 120, 160, 3)\n",
      "(16,)\n",
      "(16, 120, 160, 3)\n",
      "(16,)\n",
      "(16, 120, 160, 3)\n",
      "(16,)\n",
      "(16, 120, 160, 3)\n",
      "(16,)\n"
     ]
    }
   ],
   "source": [
    "test = myGenerator(image_paths, labels, 16)\n",
    "for j in range(0, 4):\n",
    "    x, y = next(test)\n",
    "    print(x.shape)\n",
    "    print(y.shape)"
   ]
  },
  {
   "cell_type": "code",
   "execution_count": null,
   "metadata": {
    "collapsed": true
   },
   "outputs": [],
   "source": []
  }
 ],
 "metadata": {
  "kernelspec": {
   "display_name": "Python 3",
   "language": "python",
   "name": "python3"
  },
  "language_info": {
   "codemirror_mode": {
    "name": "ipython",
    "version": 3
   },
   "file_extension": ".py",
   "mimetype": "text/x-python",
   "name": "python",
   "nbconvert_exporter": "python",
   "pygments_lexer": "ipython3",
   "version": "3.5.3"
  }
 },
 "nbformat": 4,
 "nbformat_minor": 2
}
