{
 "cells": [
  {
   "cell_type": "code",
   "execution_count": null,
   "metadata": {},
   "outputs": [],
   "source": [
    "from keras.applications.mobilenet import MobileNet\n",
    "from keras.layers import Recurrent, Dense, SimpleRNN\n",
    "from keras.models import Model\n",
    "import numpy as np\n",
    "import tensorflow as tf\n",
    "from keras import backend as K"
   ]
  },
  {
   "cell_type": "code",
   "execution_count": null,
   "metadata": {
    "collapsed": true
   },
   "outputs": [],
   "source": [
    "config = tf.ConfigProto()\n",
    "config.gpu_options.per_process_gpu_memory_fraction = 0.6\n",
    "session = tf.Session(config=config)\n",
    "K.set_session(session)"
   ]
  },
  {
   "cell_type": "code",
   "execution_count": null,
   "metadata": {
    "collapsed": true
   },
   "outputs": [],
   "source": [
    "def RecurrentMobileNet():\n",
    "    model = MobileNet()\n",
    "    # Remove last layers\n",
    "    last_layer = model.layers[-6]\n",
    "    print(\"INput shape\")\n",
    "    print(last_layer.input.shape)\n",
    "    out = last_layer.output\n",
    "    out = Dense(1, activation=\"sigmoid\")(out)\n",
    "\n",
    "    my_model = Model(model.layers[0].input, out)\n",
    "\n",
    "    idx = my_model.layers.index(last_layer)\n",
    "\n",
    "    for i in range(idx):\n",
    "        my_model.layers[i].trainable = False\n",
    "    for i in range(idx, len(my_model.layers)):\n",
    "        my_model.layers[i].trainable = True\n",
    "\n",
    "    my_model.compile(loss='mse',\n",
    "            optimizer='adam',\n",
    "            metrics=['mae'])\n",
    "    \n",
    "    return my_model"
   ]
  },
  {
   "cell_type": "code",
   "execution_count": null,
   "metadata": {},
   "outputs": [],
   "source": [
    "model = RecurrentMobileNet()"
   ]
  },
  {
   "cell_type": "code",
   "execution_count": null,
   "metadata": {},
   "outputs": [],
   "source": [
    "print(model.summary())"
   ]
  },
  {
   "cell_type": "code",
   "execution_count": null,
   "metadata": {},
   "outputs": [],
   "source": [
    "from src.learning.processing.build_dataset_angle import gen_data\n",
    "\n",
    "NPY_DATA_NAME = \"a_dataset.npy\"\n",
    "NPY_LABELS_NAME = \"a_labels.npy\"\n",
    "NB_SAMPLE = 2235\n",
    "BATCH = 16\n",
    "generator_ = gen_data(NPY_DATA_NAME, NPY_LABELS_NAME, BATCH)\n",
    "\n",
    "validation = next(generator_)\n",
    "\n",
    "hist = model.fit_generator(generator_, NB_SAMPLE / BATCH, 10, shuffle=False, validation_data=validation)\n",
    "model.save(\"output/mobileNet_Rec.h5\")"
   ]
  },
  {
   "cell_type": "code",
   "execution_count": null,
   "metadata": {
    "collapsed": true
   },
   "outputs": [],
   "source": [
    "data, label = next(generator_)\n",
    "label.shape"
   ]
  },
  {
   "cell_type": "code",
   "execution_count": null,
   "metadata": {
    "collapsed": true
   },
   "outputs": [],
   "source": [
    "validation[0]"
   ]
  },
  {
   "cell_type": "code",
   "execution_count": null,
   "metadata": {},
   "outputs": [],
   "source": [
    "import matplotlib.pyplot as plt\n",
    "\n",
    "plt.plot(hist.history[\"loss\"])\n",
    "plt.plot(hist.history[\"val_loss\"])\n",
    "plt.show()"
   ]
  },
  {
   "cell_type": "code",
   "execution_count": null,
   "metadata": {},
   "outputs": [],
   "source": [
    "plt.plot(hist.history[\"mean_absolute_error\"])\n",
    "plt.plot(hist.history[\"val_mean_absolute_error\"])\n",
    "plt.show()"
   ]
  },
  {
   "cell_type": "code",
   "execution_count": null,
   "metadata": {
    "collapsed": true
   },
   "outputs": [],
   "source": []
  }
 ],
 "metadata": {
  "kernelspec": {
   "display_name": "Python 3",
   "language": "python",
   "name": "python3"
  },
  "language_info": {
   "codemirror_mode": {
    "name": "ipython",
    "version": 3
   },
   "file_extension": ".py",
   "mimetype": "text/x-python",
   "name": "python",
   "nbconvert_exporter": "python",
   "pygments_lexer": "ipython3",
   "version": "3.5.3"
  }
 },
 "nbformat": 4,
 "nbformat_minor": 2
}
