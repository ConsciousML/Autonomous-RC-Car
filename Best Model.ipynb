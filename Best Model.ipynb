{
 "cells": [
  {
   "cell_type": "code",
   "execution_count": 43,
   "metadata": {},
   "outputs": [],
   "source": [
    "import os\n",
    "import numpy as np\n",
    "import cv2\n",
    "import matplotlib.pyplot as plt\n",
    "\n",
    "from pprint import pprint\n",
    "from keras.optimizers import Adam\n",
    "from keras.utils import Sequence\n",
    "from keras.callbacks import ModelCheckpoint\n",
    "from keras.layers import Input, Dense\n",
    "from keras.models import Model\n",
    "from keras.layers import Convolution2D, MaxPooling2D, BatchNormalization\n",
    "from keras.layers import Activation, Dropout, Dense, GlobalAveragePooling2D\n",
    "from sklearn.model_selection import train_test_split\n",
    "\n",
    "from smartcar.utils.path import get_data_paths\n",
    "from smartcar.utils.read import read_json_label\n",
    "from smartcar.learn.brightness import randomize_brightness"
   ]
  },
  {
   "cell_type": "code",
   "execution_count": 26,
   "metadata": {},
   "outputs": [],
   "source": [
    "data_dir = \"C:\\Projects\\SmartCar\\data\"\n",
    "image_fnames, label_fnames = get_data_paths(data_dir)\n",
    "\n",
    "batch_size = 16"
   ]
  },
  {
   "cell_type": "code",
   "execution_count": 72,
   "metadata": {},
   "outputs": [],
   "source": [
    "class SmartCarGenerator(Sequence):\n",
    "    def __init__(self, image_fnames, label_fnames, batch_size, image_shape, shuffle=True):\n",
    "        self.image_fnames = np.array(image_fnames)\n",
    "        self.label_fnames = np.array(label_fnames)\n",
    "        self.batch_size = batch_size\n",
    "        self.image_shape = image_shape\n",
    "    \n",
    "        if shuffle:\n",
    "            indices = np.array([i for i in range(len(image_fnames))])\n",
    "            indices = np.random.permutation(indices)\n",
    "            self.image_fnames = self.image_fnames[indices]\n",
    "            self.label_fnames = self.label_fnames[indices]\n",
    "    \n",
    "    def load_image(self, path, flip=False):\n",
    "        image = cv2.imread(path)\n",
    "        image = cv2.resize(image, (self.image_shape[1], self.image_shape[0]), interpolation=cv2.INTER_NEAREST)\n",
    "        if flip:\n",
    "            image = cv2.flip(image, 1)\n",
    "        image = randomize_brightness(image)\n",
    "        return image\n",
    "    \n",
    "    def __len__(self):\n",
    "        return np.ceil(len(self.image_fnames) / float(self.batch_size)).astype(np.int)\n",
    "                       \n",
    "    def __getitem__(self, idx):\n",
    "        x_fnames = self.image_fnames[idx * self.batch_size:(idx+1) * self.batch_size]\n",
    "        y_fnames = self.label_fnames[idx * self.batch_size:(idx+1) * self.batch_size]\n",
    "        \n",
    "        size = len(x_fnames)\n",
    "        batch_x = np.zeros((size, self.image_shape[0], self.image_shape[1], 3))\n",
    "        batch_y = np.zeros((size, 2))\n",
    "        \n",
    "        for i in range(size):\n",
    "            flip = 0.5 >= np.random.rand(1)\n",
    "            image = self.load_image(x_fnames[i], flip)\n",
    "            batch_x[i] = image / 255.\n",
    "            \n",
    "            angle, speed = read_json_label(y_fnames[i])\n",
    "            if flip:\n",
    "                angle = 1 - angle\n",
    "            batch_y[i][0] = angle\n",
    "            batch_y[i][1] = speed\n",
    "        return batch_x, batch_y"
   ]
  },
  {
   "cell_type": "code",
   "execution_count": 73,
   "metadata": {},
   "outputs": [],
   "source": [
    "X_train, X_test, y_train, y_test = train_test_split(image_fnames, label_fnames, train_size=0.80, random_state=42)"
   ]
  },
  {
   "cell_type": "code",
   "execution_count": 74,
   "metadata": {},
   "outputs": [],
   "source": [
    "datagen_train = SmartCarGenerator(X_train, y_train, batch_size=16, image_shape=(120, 160, 3), shuffle=True)\n",
    "datagen_test = SmartCarGenerator(X_test, y_test, batch_size=16, image_shape=(120, 160, 3), shuffle=True)"
   ]
  },
  {
   "cell_type": "code",
   "execution_count": 75,
   "metadata": {},
   "outputs": [],
   "source": [
    "def CustomCNN(dropout=0.0):\n",
    "    img_in = Input(shape=(120, 160, 3), name='img_in')\n",
    "    x = img_in\n",
    "    x = Convolution2D(8, (3,3), strides=(2,2), activation='relu')(x)\n",
    "    x = MaxPooling2D(pool_size=(2, 2))(x)\n",
    "    x = Convolution2D(16, (3,3), strides=(2,2), activation='relu')(x)\n",
    "    x = MaxPooling2D(pool_size=(2, 2))(x)\n",
    "    x = Convolution2D(32, (3,3), strides=(2,2), activation='relu')(x)\n",
    "    x = MaxPooling2D(pool_size=(2, 2))(x)\n",
    "\n",
    "    x = GlobalAveragePooling2D(name='flattened')(x)                                        \n",
    "    x = Dense(32, activation='relu')(x)                                     \n",
    "    x = Dropout(dropout)(x)\n",
    "    x = BatchNormalization()(x)\n",
    "    \n",
    "    out = Dense(2, activation='sigmoid', name='out')(x)\n",
    "    model = Model(inputs=[img_in], outputs=[out])\n",
    "    return model"
   ]
  },
  {
   "cell_type": "code",
   "execution_count": 76,
   "metadata": {},
   "outputs": [],
   "source": [
    "model = CustomCNN()\n",
    "                           \n",
    "opt = Adam(learning_rate=1e-4)\n",
    "model.compile(optimizer=opt,\n",
    "              loss={'out' : 'mean_squared_error'})"
   ]
  },
  {
   "cell_type": "code",
   "execution_count": 77,
   "metadata": {},
   "outputs": [
    {
     "name": "stdout",
     "output_type": "stream",
     "text": [
      "Epoch 1/20\n",
      "248/248 [==============================] - 21s 85ms/step - loss: 0.0907 - val_loss: 0.0821\n",
      "Epoch 2/20\n",
      "248/248 [==============================] - 20s 82ms/step - loss: 0.0875 - val_loss: 0.0874\n",
      "Epoch 3/20\n",
      "248/248 [==============================] - 21s 84ms/step - loss: 0.0861 - val_loss: 0.0910\n",
      "Epoch 4/20\n",
      "248/248 [==============================] - 21s 85ms/step - loss: 0.0848 - val_loss: 0.0751\n",
      "Epoch 5/20\n",
      "248/248 [==============================] - 21s 83ms/step - loss: 0.0837 - val_loss: 0.0628\n",
      "Epoch 6/20\n",
      "248/248 [==============================] - 21s 84ms/step - loss: 0.0829 - val_loss: 0.0678\n",
      "Epoch 7/20\n",
      "248/248 [==============================] - 21s 84ms/step - loss: 0.0817 - val_loss: 0.0690\n",
      "Epoch 8/20\n",
      "248/248 [==============================] - 21s 84ms/step - loss: 0.0803 - val_loss: 0.0682\n",
      "Epoch 9/20\n",
      "248/248 [==============================] - 21s 85ms/step - loss: 0.0796 - val_loss: 0.0603\n",
      "Epoch 10/20\n",
      "248/248 [==============================] - 22s 87ms/step - loss: 0.0778 - val_loss: 0.0805\n",
      "Epoch 11/20\n",
      "248/248 [==============================] - 21s 85ms/step - loss: 0.0777 - val_loss: 0.0503\n",
      "Epoch 12/20\n",
      "248/248 [==============================] - 21s 83ms/step - loss: 0.0767 - val_loss: 0.0698\n",
      "Epoch 13/20\n",
      "248/248 [==============================] - 20s 82ms/step - loss: 0.0755 - val_loss: 0.0686\n",
      "Epoch 14/20\n",
      "248/248 [==============================] - 21s 84ms/step - loss: 0.0745 - val_loss: 0.0714\n",
      "Epoch 15/20\n",
      "248/248 [==============================] - 21s 83ms/step - loss: 0.0733 - val_loss: 0.0614\n",
      "Epoch 16/20\n",
      "248/248 [==============================] - 21s 83ms/step - loss: 0.0722 - val_loss: 0.0517\n",
      "Epoch 17/20\n",
      "248/248 [==============================] - 20s 83ms/step - loss: 0.0721 - val_loss: 0.0635\n",
      "Epoch 18/20\n",
      "248/248 [==============================] - 20s 82ms/step - loss: 0.0701 - val_loss: 0.0584\n",
      "Epoch 19/20\n",
      "248/248 [==============================] - 21s 84ms/step - loss: 0.0692 - val_loss: 0.0622\n",
      "Epoch 20/20\n",
      "248/248 [==============================] - 21s 84ms/step - loss: 0.0694 - val_loss: 0.0537\n"
     ]
    }
   ],
   "source": [
    "model_path = os.path.abspath(\"models/test.h5\")\n",
    "checkpointer = ModelCheckpoint(model_path, save_best_only=True, monitor='val_loss', mode='min')\n",
    "hist = model.fit_generator(generator=datagen_train,\n",
    "                           validation_data=datagen_test,\n",
    "                           epochs=20,\n",
    "                           shuffle=True,\n",
    "                           callbacks=[checkpointer])"
   ]
  },
  {
   "cell_type": "code",
   "execution_count": null,
   "metadata": {},
   "outputs": [],
   "source": [
    "plt.plot(hist.history[\"loss\"][1:])\n",
    "plt.plot(hist.history[\"val_loss\"][1:])\n",
    "ax = plt.gca()\n",
    "ax.set_ylim([0.06, 0.11])\n",
    "plt.savefig('loss.jpg')"
   ]
  }
 ],
 "metadata": {
  "kernelspec": {
   "display_name": "keras2",
   "language": "python",
   "name": "keras2"
  },
  "language_info": {
   "codemirror_mode": {
    "name": "ipython",
    "version": 3
   },
   "file_extension": ".py",
   "mimetype": "text/x-python",
   "name": "python",
   "nbconvert_exporter": "python",
   "pygments_lexer": "ipython3",
   "version": "3.6.7"
  }
 },
 "nbformat": 4,
 "nbformat_minor": 4
}
