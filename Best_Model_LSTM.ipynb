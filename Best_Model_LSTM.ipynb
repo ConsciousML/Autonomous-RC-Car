{
 "cells": [
  {
   "cell_type": "code",
   "execution_count": 13,
   "metadata": {
    "collapsed": true
   },
   "outputs": [],
   "source": [
    "import os\n",
    "import glob\n",
    "import numpy as np\n",
    "import cv2\n",
    "import json\n",
    "import matplotlib.pyplot as plt\n",
    "from pprint import pprint\n",
    "from keras.preprocessing.image import ImageDataGenerator\n",
    "from keras.callbacks import ModelCheckpoint\n",
    "from keras.layers import Input, Dense, merge\n",
    "from keras.models import Model, Sequential\n",
    "from keras.layers import Convolution2D, MaxPooling2D, Reshape, BatchNormalization\n",
    "from keras.layers import Activation, Dropout, Flatten, Dense\n",
    "from src.learning.processing import parse\n",
    "from keras.layers import LSTM\n",
    "from keras.layers.wrappers import TimeDistributed as TD\n",
    "BATCH_SIZE = 16\n",
    "data_dir = \"src/client/pictures1/\"\n",
    "data_save_dir = \"datasets/npy/\"\n",
    "big_dir = \"tawn_dataset/\"\n",
    "\n",
    "def normalize_label(old_val, old_min, old_max, new_min, new_max):\n",
    "    old_val = float(old_val)\n",
    "    new_val = (((old_val - old_min) * (new_max - new_min)) / (old_max - old_min)) + new_min\n",
    "    return new_val\n",
    "\n",
    "def padding_img_id(string_i):\n",
    "    padding = 7 - len(string_i)\n",
    "    for i in range(padding):\n",
    "        string_i = \"0\" + string_i\n",
    "    return string_i"
   ]
  },
  {
   "cell_type": "markdown",
   "metadata": {},
   "source": [
    "### CAUTION flip only once !"
   ]
  },
  {
   "cell_type": "raw",
   "metadata": {},
   "source": [
    "files = parse.get_filenames(data_dir)\n",
    "flip_dir = data_dir\n",
    "if not os.path.exists(flip_dir):\n",
    "    os.makedirs(flip_dir)\n",
    "    \n",
    "def flip_angle(label):\n",
    "    if (label >= 125):\n",
    "        diff = label - 125\n",
    "        return 125 - diff\n",
    "    else:\n",
    "        diff = 125 - label\n",
    "        return 125 + diff\n",
    "    \n",
    "def flip_dataset(files, directory):\n",
    "    files = sorted(files)\n",
    "    max_id = files[len(files) - 1]\n",
    "    max_id = int(max_id.split(\"_\")[0].split(\"/\")[3])\n",
    "    i = max_id + 1\n",
    "    for f in files:\n",
    "        img = cv2.imread(f, 1)\n",
    "        img = cv2.flip(img, 1)\n",
    "        f = f.split(\"_\")\n",
    "        angle = f[1]\n",
    "        speed = f[2].rstrip(f[2][-4:])\n",
    "        angle = flip_angle(int(angle))\n",
    "        img_path = directory + padding_img_id(str(i)) + \"_\" + str(angle) + \"_\" + str(speed) + \".jpg\"\n",
    "        cv2.imwrite(img_path, img)\n",
    "        print(img_path)\n",
    "        i += 1\n",
    "        \n",
    "flip_dataset(files, data_dir)"
   ]
  },
  {
   "cell_type": "raw",
   "metadata": {},
   "source": [
    "for root, dirs, files in os.walk(data_dir):\n",
    "    for file in files:\n",
    "        s = file.split(\"_\")\n",
    "        f = padding_img_id(s[0]) + \"_\" + s[1] + \"_\" + s[2]\n",
    "        os.rename(data_dir + file, data_dir + f)"
   ]
  },
  {
   "cell_type": "code",
   "execution_count": 37,
   "metadata": {
    "collapsed": true
   },
   "outputs": [],
   "source": [
    "image_paths = []\n",
    "angle_labels = []\n",
    "speed_labels = []\n",
    "for root, dirs, files in os.walk(data_dir):\n",
    "    nb_data = len(files)\n",
    "    files = sorted(files)\n",
    "    for file in files:\n",
    "        if file.endswith(\".jpg\"):\n",
    "            filename = os.path.join(root, file)\n",
    "            image_paths.append(filename)\n",
    "            s = filename.split(\"_\")\n",
    "            angle_labels.append(float(s[1]))\n",
    "            speed_labels.append(float(s[2].rstrip(s[2][-4:])))\n",
    "image_paths = np.array(image_paths)\n",
    "angle_labels = np.array(angle_labels)\n",
    "speed_labels = np.array(speed_labels)"
   ]
  },
  {
   "cell_type": "code",
   "execution_count": 38,
   "metadata": {
    "collapsed": true
   },
   "outputs": [],
   "source": [
    "angle_labels = ((angle_labels - 35) / 170.0 - 0.5) * 2\n",
    "idx = 0\n",
    "for spd in speed_labels:\n",
    "    speed_labels[idx] = normalize_label(spd, 40, 102, 0, 1)\n",
    "    idx += 1"
   ]
  },
  {
   "cell_type": "code",
   "execution_count": 39,
   "metadata": {},
   "outputs": [
    {
     "data": {
      "text/plain": [
       "((7728,), (7728,), (7728,))"
      ]
     },
     "execution_count": 39,
     "metadata": {},
     "output_type": "execute_result"
    }
   ],
   "source": [
    "(angle_labels.shape, speed_labels.shape, image_paths.shape)"
   ]
  },
  {
   "cell_type": "code",
   "execution_count": 40,
   "metadata": {
    "collapsed": true
   },
   "outputs": [],
   "source": [
    "from random import shuffle\n",
    "\n",
    "def build_dataset(datas):\n",
    "    dataset = np.zeros((datas.shape[0], 120, 160, 3))\n",
    "    for i in range(datas.shape[0]):    \n",
    "        img = cv2.imread(datas[i])\n",
    "        y1 = int(img.shape[0] / 2)\n",
    "        img = img[y1:, :]\n",
    "        img = cv2.resize(img, (160, 120), interpolation = cv2.INTER_CUBIC)\n",
    "        dataset[i, :, :, :] = img\n",
    "    return dataset\n",
    "\n",
    "def build_labels(datas):\n",
    "    labels = np.array([data[1] for data in datas])\n",
    "    return to_categorical(labels, 15)\n",
    "\n",
    "\n",
    "def myGenerator(datas, angle_labels, speed_labels, batch=16):\n",
    "    i = 0\n",
    "    while (True):\n",
    "        if (i == 0):\n",
    "            loaded_img = build_dataset(datas[:batch])\n",
    "        else:\n",
    "            loaded_img = build_dataset(datas[(i - 2):(i + batch)])\n",
    "        \n",
    "        nb_batch = i\n",
    "        x = np.zeros((batch, 3, 120, 160, 3))\n",
    "        y = np.zeros((batch, 2))\n",
    "        \n",
    "        u = 0\n",
    "        while (nb_batch < i + batch and nb_batch < datas.shape[0]):\n",
    "            if (nb_batch == 0):\n",
    "                x[u, 0, :, :, :] = loaded_img[u]\n",
    "                x[u, 1, :, :, :] = loaded_img[u]\n",
    "                x[u, 2, :, :, :] = loaded_img[u]\n",
    "            elif (nb_batch == 1):\n",
    "                x[u, 0, :, :, :] = loaded_img[u]\n",
    "                x[u, 1, :, :, :] = loaded_img[u - 1]\n",
    "                x[u, 2, :, :, :] = loaded_img[u - 1]\n",
    "            elif (i == 0):\n",
    "                x[u, 0, :, :, :] = loaded_img[u]\n",
    "                x[u, 1, :, :, :] = loaded_img[u - 1]\n",
    "                x[u, 2, :, :, :] = loaded_img[u - 2]\n",
    "            else:\n",
    "                idx = u + 2\n",
    "                x[u, 0, :, :, :] = loaded_img[idx]\n",
    "                x[u, 1, :, :, :] = loaded_img[idx - 1]\n",
    "                x[u, 2, :, :, :] = loaded_img[idx - 2]\n",
    "            #print(\"i:\", nb_batch, \"angle:\", angle_labels[nb_batch], \"speed:\", speed_labels[nb_batch])\n",
    "            y[u, 0] = angle_labels[nb_batch]\n",
    "            y[u, 1] = speed_labels[nb_batch]\n",
    "            nb_batch += 1\n",
    "            u += 1\n",
    "        i += batch\n",
    "        yield x, y"
   ]
  },
  {
   "cell_type": "code",
   "execution_count": 41,
   "metadata": {
    "collapsed": true
   },
   "outputs": [],
   "source": [
    "sep_train = int(nb_data * 0.8)\n",
    "sep_test = nb_data - sep_train\n",
    "gen_train = myGenerator(image_paths[:sep_train], angle_labels[:sep_train], speed_labels[:sep_train], BATCH_SIZE)\n",
    "gen_test = myGenerator(image_paths[sep_train:], angle_labels[sep_train:], speed_labels[sep_train:], BATCH_SIZE)"
   ]
  },
  {
   "cell_type": "code",
   "execution_count": 51,
   "metadata": {},
   "outputs": [
    {
     "name": "stdout",
     "output_type": "stream",
     "text": [
      "[[ 0.16470588  1.        ]\n",
      " [ 0.16470588  1.        ]\n",
      " [ 0.16470588  1.        ]\n",
      " [ 0.05882353  0.5       ]\n",
      " [ 0.05882353  0.38709677]\n",
      " [ 0.22352941  0.30645161]\n",
      " [ 1.11764706  0.27419355]\n",
      " [ 0.25882353  0.25806452]\n",
      " [ 0.64705882  0.29032258]\n",
      " [ 1.03529412  0.30645161]\n",
      " [ 1.05882353  0.27419355]\n",
      " [ 1.05882353  1.        ]\n",
      " [ 0.16470588  1.        ]\n",
      " [-0.6         1.        ]\n",
      " [ 0.05882353  1.        ]\n",
      " [ 0.56470588  1.        ]]\n"
     ]
    }
   ],
   "source": [
    "x_train, y_train = next(gen_test)\n",
    "print(y_train)\n",
    "for i in range(x_train.shape[0]):\n",
    "    for j in range(x_train[i].shape[0]):\n",
    "        filename = \"train\" + padding_img_id(str(i)) + \"_\" + padding_img_id(str(j)) + \".png\"\n",
    "        cv2.imwrite(filename, x_train[i][j])\n",
    "        #print(filename, y_train[i])"
   ]
  },
  {
   "cell_type": "code",
   "execution_count": 46,
   "metadata": {},
   "outputs": [
    {
     "name": "stdout",
     "output_type": "stream",
     "text": [
      "[ 0.  1.  1. ...,  1.  1.  1.]\n"
     ]
    }
   ],
   "source": [
    "print(str(speed_labels))"
   ]
  },
  {
   "cell_type": "code",
   "execution_count": 44,
   "metadata": {},
   "outputs": [
    {
     "name": "stdout",
     "output_type": "stream",
     "text": [
      "[ 0.05882353  0.05882353  0.05882353 ..., -0.43529412 -0.29411765\n",
      "  0.21176471]\n"
     ]
    }
   ],
   "source": [
    "print(str(angle_labels))"
   ]
  },
  {
   "cell_type": "code",
   "execution_count": 23,
   "metadata": {},
   "outputs": [
    {
     "data": {
      "image/png": "[encoded data removed]",
      "text/plain": [
       "<matplotlib.figure.Figure at 0x7f80b7aa9898>"
      ]
     },
     "metadata": {},
     "output_type": "display_data"
    }
   ],
   "source": [
    "plt.hist(angle_labels, bins=30)\n",
    "plt.show()"
   ]
  },
  {
   "cell_type": "code",
   "execution_count": 24,
   "metadata": {},
   "outputs": [
    {
     "data": {
      "image/png": "[encoded data removed]",
      "text/plain": [
       "<matplotlib.figure.Figure at 0x7f80b7b2dcc0>"
      ]
     },
     "metadata": {},
     "output_type": "display_data"
    }
   ],
   "source": [
    "plt.hist(speed_labels, bins=30)\n",
    "plt.show()"
   ]
  },
  {
   "cell_type": "code",
   "execution_count": 25,
   "metadata": {
    "collapsed": true
   },
   "outputs": [],
   "source": [
    "def rnn_lstm(seq_length=3, num_outputs=2, image_shape=(120,160,3)):\n",
    "\n",
    "    img_seq_shape = (seq_length,) + image_shape   \n",
    "    img_in = Input(batch_shape = img_seq_shape, name='img_in')\n",
    "    \n",
    "    x = Sequential()\n",
    "    x.add(TD(Convolution2D(24, (5,5), strides=(2,2), activation='relu'), input_shape=img_seq_shape))\n",
    "    x.add(TD(Convolution2D(32, (5,5), strides=(2,2), activation='relu')))\n",
    "    x.add(TD(Convolution2D(64, (3,3), strides=(2,2), activation='relu')))\n",
    "    x.add(TD(Convolution2D(64, (3,3), strides=(1,1), activation='relu')))\n",
    "    x.add(TD(Convolution2D(64, (3,3), strides=(1,1), activation='relu')))\n",
    "    x.add(TD(Flatten(name='flattened')))\n",
    "    x.add(TD(Dense(100, activation='relu')))\n",
    "    x.add(TD(Dropout(.1)))\n",
    "      \n",
    "    x.add(LSTM(128, return_sequences=True, name=\"LSTM_seq\"))\n",
    "    x.add(Dropout(.1))\n",
    "    x.add(LSTM(128, return_sequences=False, name=\"LSTM_out\"))\n",
    "    x.add(Dropout(.1))\n",
    "    x.add(Dense(50, activation='relu'))\n",
    "    x.add(Dropout(.1))\n",
    "    x.add(Dense(num_outputs, activation='linear', name='model_outputs'))\n",
    "    \n",
    "    x.compile(optimizer='adam',\n",
    "                  loss={'model_outputs' : 'mean_squared_error'})\n",
    "    \n",
    "    print(x.summary())\n",
    "\n",
    "    return x"
   ]
  },
  {
   "cell_type": "code",
   "execution_count": 53,
   "metadata": {},
   "outputs": [
    {
     "name": "stdout",
     "output_type": "stream",
     "text": [
      "_________________________________________________________________\n",
      "Layer (type)                 Output Shape              Param #   \n",
      "=================================================================\n",
      "time_distributed_25 (TimeDis (None, 3, 58, 78, 24)     1824      \n",
      "_________________________________________________________________\n",
      "time_distributed_26 (TimeDis (None, 3, 27, 37, 32)     19232     \n",
      "_________________________________________________________________\n",
      "time_distributed_27 (TimeDis (None, 3, 13, 18, 64)     18496     \n",
      "_________________________________________________________________\n",
      "time_distributed_28 (TimeDis (None, 3, 11, 16, 64)     36928     \n",
      "_________________________________________________________________\n",
      "time_distributed_29 (TimeDis (None, 3, 9, 14, 64)      36928     \n",
      "_________________________________________________________________\n",
      "time_distributed_30 (TimeDis (None, 3, 8064)           0         \n",
      "_________________________________________________________________\n",
      "time_distributed_31 (TimeDis (None, 3, 100)            806500    \n",
      "_________________________________________________________________\n",
      "time_distributed_32 (TimeDis (None, 3, 100)            0         \n",
      "_________________________________________________________________\n",
      "LSTM_seq (LSTM)              (None, 3, 128)            117248    \n",
      "_________________________________________________________________\n",
      "dropout_14 (Dropout)         (None, 3, 128)            0         \n",
      "_________________________________________________________________\n",
      "LSTM_out (LSTM)              (None, 128)               131584    \n",
      "_________________________________________________________________\n",
      "dropout_15 (Dropout)         (None, 128)               0         \n",
      "_________________________________________________________________\n",
      "dense_8 (Dense)              (None, 50)                6450      \n",
      "_________________________________________________________________\n",
      "dropout_16 (Dropout)         (None, 50)                0         \n",
      "_________________________________________________________________\n",
      "model_outputs (Dense)        (None, 2)                 102       \n",
      "=================================================================\n",
      "Total params: 1,175,292\n",
      "Trainable params: 1,175,292\n",
      "Non-trainable params: 0\n",
      "_________________________________________________________________\n",
      "None\n"
     ]
    }
   ],
   "source": [
    "model = rnn_lstm()"
   ]
  },
  {
   "cell_type": "code",
   "execution_count": 54,
   "metadata": {},
   "outputs": [
    {
     "name": "stdout",
     "output_type": "stream",
     "text": [
      "Epoch 1/10\n",
      "387/386 [==============================] - 142s 367ms/step - loss: 0.1799 - val_loss: 0.2236\n",
      "Epoch 2/10\n",
      "387/386 [==============================] - 62s 161ms/step - loss: 9.2028e-04 - val_loss: 3.2939e-07\n",
      "Epoch 3/10\n",
      "387/386 [==============================] - 58s 150ms/step - loss: 2.2616e-05 - val_loss: 1.1401e-06\n",
      "Epoch 4/10\n",
      "387/386 [==============================] - 58s 150ms/step - loss: 1.7288e-05 - val_loss: 7.3663e-07\n",
      "Epoch 5/10\n",
      "387/386 [==============================] - 59s 151ms/step - loss: 1.2778e-05 - val_loss: 2.9817e-07\n",
      "Epoch 6/10\n",
      "387/386 [==============================] - 59s 151ms/step - loss: 9.4556e-06 - val_loss: 7.4533e-08\n",
      "Epoch 7/10\n",
      "387/386 [==============================] - 59s 153ms/step - loss: 6.9164e-06 - val_loss: 2.0808e-07\n",
      "Epoch 8/10\n",
      "387/386 [==============================] - 58s 150ms/step - loss: 5.2404e-06 - val_loss: 1.4639e-06\n",
      "Epoch 9/10\n",
      "387/386 [==============================] - 60s 154ms/step - loss: 3.2439e-06 - val_loss: 2.8124e-07\n",
      "Epoch 10/10\n",
      "387/386 [==============================] - 59s 153ms/step - loss: 1.9857e-06 - val_loss: 1.2388e-08\n"
     ]
    }
   ],
   "source": [
    "model_path = os.path.abspath(\"models/lstm_model.h5\")\n",
    "checkpointer = ModelCheckpoint(model_path, save_best_only=True, monitor='val_loss', mode='min')\n",
    "hist = model.fit_generator(generator=gen_train,\n",
    "                           validation_data=gen_test,\n",
    "                           steps_per_epoch=(sep_train / BATCH_SIZE),\n",
    "                           validation_steps=(sep_test / BATCH_SIZE),\n",
    "                           epochs=10,\n",
    "                           shuffle=False,\n",
    "                           callbacks=[checkpointer])"
   ]
  },
  {
   "cell_type": "code",
   "execution_count": 28,
   "metadata": {},
   "outputs": [
    {
     "data": {
      "image/png": "[encoded data removed]",
      "text/plain": [
       "<matplotlib.figure.Figure at 0x7f80bc018940>"
      ]
     },
     "metadata": {},
     "output_type": "display_data"
    }
   ],
   "source": [
    "plt.plot(hist.history[\"loss\"])\n",
    "plt.plot(hist.history[\"val_loss\"])\n",
    "plt.show()"
   ]
  },
  {
   "cell_type": "code",
   "execution_count": null,
   "metadata": {
    "collapsed": true
   },
   "outputs": [],
   "source": []
  }
 ],
 "metadata": {
  "kernelspec": {
   "display_name": "Python 3",
   "language": "python",
   "name": "python3"
  },
  "language_info": {
   "codemirror_mode": {
    "name": "ipython",
    "version": 3
   },
   "file_extension": ".py",
   "mimetype": "text/x-python",
   "name": "python",
   "nbconvert_exporter": "python",
   "pygments_lexer": "ipython3",
   "version": "3.5.3"
  }
 },
 "nbformat": 4,
 "nbformat_minor": 2
}
